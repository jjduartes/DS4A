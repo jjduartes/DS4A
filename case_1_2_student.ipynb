{
  "nbformat": 4,
  "nbformat_minor": 0,
  "metadata": {
    "kernelspec": {
      "display_name": "Python 3",
      "language": "python",
      "name": "python3"
    },
    "language_info": {
      "codemirror_mode": {
        "name": "ipython",
        "version": 3
      },
      "file_extension": ".py",
      "mimetype": "text/x-python",
      "name": "python",
      "nbconvert_exporter": "python",
      "pygments_lexer": "ipython3",
      "version": "3.7.3"
    },
    "colab": {
      "name": "case_1.2_student.ipynb",
      "provenance": [],
      "collapsed_sections": [
        "QXVnIjPaVnSa",
        "4WSBzD38VnSy",
        "o28231RkVnS0",
        "iZw5toQmVnS-",
        "QyGazFgjVnS_",
        "A1ZsRh3bVnTA",
        "bs_LGZdjVnTE",
        "Nq3LWnMpVnTG"
      ],
      "toc_visible": true,
      "include_colab_link": true
    }
  },
  "cells": [
    {
      "cell_type": "markdown",
      "metadata": {
        "id": "view-in-github",
        "colab_type": "text"
      },
      "source": [
        "<a href=\"https://colab.research.google.com/github/jjduartes/DS4A/blob/master/case_1_2_student.ipynb\" target=\"_parent\"><img src=\"https://colab.research.google.com/assets/colab-badge.svg\" alt=\"Open In Colab\"/></a>"
      ]
    },
    {
      "cell_type": "markdown",
      "metadata": {
        "id": "-e0QGsu7VnQN",
        "colab_type": "text"
      },
      "source": [
        "# How are trading volume and volatility related for energy stocks?"
      ]
    },
    {
      "cell_type": "markdown",
      "metadata": {
        "id": "bKBYmK1AVnQP",
        "colab_type": "text"
      },
      "source": [
        "## Goals\n",
        "\n",
        "By the end of this case, we will have introduced the `pandas` library within Python. You will also have gained experience with the `numpy` library, know how to read data files, and conduct descriptive statistics.\n",
        "\n",
        "You should also begin to develop a proper mindset for investigating the library on your own, via documentation or other resources such as StackOverflow. Self-research of existing documentation is a crucial part of developing as a data professional."
      ]
    },
    {
      "cell_type": "markdown",
      "metadata": {
        "id": "-k7UCllBVnQQ",
        "colab_type": "text"
      },
      "source": [
        "## Introduction"
      ]
    },
    {
      "cell_type": "markdown",
      "metadata": {
        "collapsed": true,
        "id": "xfgHPtDUVnQR",
        "colab_type": "text"
      },
      "source": [
        "**Business Context.** You are an analyst at a large bank focused on natural resource stock investments. Natural resources are vital for a variety of industries in our economy. Recently, your division has taken interest in the following stocks:\n",
        "\n",
        "1. Dominion Energy Inc.\n",
        "2. Exelon Corp.\n",
        "3. NextEra Energy Inc.\n",
        "4. Southern Co.\n",
        "5. Duke Energy Corp.\n",
        "\n",
        "These stocks are all part of the energy sector, an important but volatile sector of the stock market. While high volatility increases the chance of great gains, it also makes it more likely to have large losses, so risk must be carefully managed with high-volatility stocks.\n",
        "\n",
        "Because your firm is quite large, there must be enough trading volume (average amount of shares transacted per day) so that it can easily transact in these stocks. Otherwise, this effect compounded with the stocks' naturally high volatility could make these too risky for the bank to invest in."
      ]
    },
    {
      "cell_type": "markdown",
      "metadata": {
        "id": "WNh4SZueVnQS",
        "colab_type": "text"
      },
      "source": [
        "**Business Problem.** Given that both low trading volume and high volatility present risks to your investments, your team lead asks you to investigate the following: **\"How is the volatility of energy stocks related to their average daily trading volume?\"**"
      ]
    },
    {
      "cell_type": "markdown",
      "metadata": {
        "id": "Y9FPT7xlVnQT",
        "colab_type": "text"
      },
      "source": [
        "**Analytical Context.** The data you've been given is in the [Comma Separated Value (CSV) format](https://frictionlessdata.io/docs//), and comprises price and trading volume data for the above stocks. This case begins with a brief overview of this data, after which you will: (1) learn how to use the Python library [pandas](https://towardsdatascience.com/a-quick-introduction-to-the-pandas-python-library-f1b678f34673) to load the data; (2) use ```pandas``` transform this data into a form amenable for analysis; and finally (3) use ```pandas``` to analyze the above question and come to a conclusion. As you may have guessed, ```pandas``` is an enormously useful library for data analysis and manipulation."
      ]
    },
    {
      "cell_type": "markdown",
      "metadata": {
        "id": "62xdfl-PVnQU",
        "colab_type": "text"
      },
      "source": [
        "## Importing packages to aid in data analysis\n",
        "\n",
        "[External libraries (a.k.a. packages)](https://www.learnpython.org/en/Modules_and_Packages) are code bases that contain a variety of pre-written functions and tools. This allows you to perform a variety of complex tasks in Python without having to \"reinvent the wheel\" build everything from the ground up. We will use two core packages: ```pandas``` and ```numpy```.\n",
        "\n",
        "```pandas``` is an external library that provides functionality for data analysis. Pandas specifically offers a variety of data structures and data manipulation methods that allow you to perform complex tasks with simple, one-line commands.\n",
        "\n",
        "```numpy``` is a package that we will use later in the case that offers numerous mathematical operations. Together, [pandas](https://pandas.pydata.org/pandas-docs/stable/whatsnew/v1.0.0.html) and [numpy](https://numpy.org/) allow you to create a data science workflow within Python. `numpy` is in many ways foundational to `pandas`, providing vectorized operations, while `pandas` provides higher level abstractions built on top of `numpy`.</font>\n",
        "\n",
        "Let's import both packages using the ```import``` keyword. We will rename ```pandas``` to ```pd``` and ```numpy``` to ```np``` using the ```as``` keyword. This allows us to use the short name abbreviation when we want to reference any function that is inside either package. The abbreviations we chose are standard across the data science industry and should be followed unless there is a very good reason not to."
      ]
    },
    {
      "cell_type": "code",
      "metadata": {
        "id": "-jf8fadjVnQV",
        "colab_type": "code",
        "colab": {}
      },
      "source": [
        "# Import the Pandas package\n",
        "import pandas as pd\n",
        "\n",
        "# Import the NumPy package\n",
        "import numpy as np"
      ],
      "execution_count": 0,
      "outputs": []
    },
    {
      "cell_type": "markdown",
      "metadata": {
        "id": "q9hDOGO4VnQc",
        "colab_type": "text"
      },
      "source": [
        "Now that these packages are loaded into Python, we can use their contents. Let's first take a look at ```pandas``` as it has a variety of features we will use to load and analyze our stock data."
      ]
    },
    {
      "cell_type": "markdown",
      "metadata": {
        "id": "R3MUi3cAVnQd",
        "colab_type": "text"
      },
      "source": [
        "## Fundamentals of ```pandas```"
      ]
    },
    {
      "cell_type": "markdown",
      "metadata": {
        "collapsed": true,
        "id": "mF3rOTmcVnQe",
        "colab_type": "text"
      },
      "source": [
        "`pandas` is a Python library that facilitates a wide range of data analysis and manipulation. Before, you saw basic data structures in Python such as lists and dictionaries. While you can build a basic data table (similar to an Excel spreadsheet) using nested lists in Python, they get quite difficult to work with. By contrast, in `pandas` the table data structure, known as a `DataFrame`, is a first-class citizen and you can easily manipulate your data thinking of it in rows and columns.\n",
        "\n",
        "If you've ever used or heard of R or SQL before, `pandas` brings some functionality from each of these to Python, allowing you to structure and filter data more efficiently than pure Python. This efficiency is seen in two distinct ways:\n",
        "\n",
        "* Scripts written using `pandas` will often run faster than scripts written in pure Python\n",
        "* Scripts written using `pandas` will often contain far fewer lines of code than the equivalent script written in pure Python.\n",
        "\n",
        "At the core of the ```pandas``` library are two fundamental data structures/objects:\n",
        "1. [Series](https://pandas.pydata.org/pandas-docs/stable/reference/api/pandas.Series.html)\n",
        "2. [DataFrame](https://pandas.pydata.org/pandas-docs/stable/reference/api/pandas.DataFrame.html)\n",
        "\n",
        "A ```Series``` object stores single-column data along with an **index**. An index is just a way of \"numbering\" the ```Series``` object. For example, in this case study, the indices will be dates, while the single-column data may be stock prices or daily trading volume.\n",
        "\n",
        "A ```DataFrame``` object is a two-dimensional tabular data structure with labeled axes. It is conceptually helpful to think of a DataFrame object as a collection of Series objects. Namely, think of each column in a DataFrame as a single Series object, where each of these Series objects shares a common index -  the index of the DataFrame object.\n",
        "\n",
        "Below is the syntax for creating a Series object, followed by the syntax for creating a DataFrame object. Note that DataFrame objects can also have a single-column – think of this as a DataFrame consisting of a single Series object:"
      ]
    },
    {
      "cell_type": "code",
      "metadata": {
        "id": "P2vY8Dw7VnQf",
        "colab_type": "code",
        "colab": {}
      },
      "source": [
        "# Create a simple Series object\n",
        "simple_series = pd.Series(\n",
        "    index=[0, 1, 2, 3], name=\"Volume\", data=[1000, 2600, 1524, 98000]\n",
        ")\n",
        "simple_series"
      ],
      "execution_count": 0,
      "outputs": []
    },
    {
      "cell_type": "markdown",
      "metadata": {
        "id": "zIFVxPcmVnQj",
        "colab_type": "text"
      },
      "source": [
        "By changing ```pd.Series``` to ```pd.DataFrame```, and adding a columns input list, a DataFrame object can be created:"
      ]
    },
    {
      "cell_type": "code",
      "metadata": {
        "id": "e3x2p1qmVnQk",
        "colab_type": "code",
        "colab": {}
      },
      "source": [
        "# Create a simple DataFrame object\n",
        "simple_df = pd.DataFrame(\n",
        "    index=[0, 1, 2, 3], columns=[\"Volume\"], data=[1000, 2600, 1524, 98000]\n",
        ")\n",
        "simple_df"
      ],
      "execution_count": 0,
      "outputs": []
    },
    {
      "cell_type": "markdown",
      "metadata": {
        "id": "mmKNivkqVnQp",
        "colab_type": "text"
      },
      "source": [
        "DataFrame objects are more general than Series objects, and one DataFrame can hold many Series objects, each as a different column. Let's create a two-column DataFrame object:"
      ]
    },
    {
      "cell_type": "code",
      "metadata": {
        "scrolled": true,
        "id": "cjHfCG_wVnQp",
        "colab_type": "code",
        "colab": {}
      },
      "source": [
        "# Create another DataFrame object\n",
        "another_df = pd.DataFrame(\n",
        "    index=[0, 1, 2, 3],\n",
        "    columns=[\"Date\", \"Volume\"],\n",
        "    data=[[20190101, 1000], [20190102, 2600], [20190103, 1524], [20190104, 98000]],\n",
        ")\n",
        "another_df"
      ],
      "execution_count": 0,
      "outputs": []
    },
    {
      "cell_type": "markdown",
      "metadata": {
        "id": "H2jCuyk5VnQu",
        "colab_type": "text"
      },
      "source": [
        "Notice how a list of lists was used to specify the data in the ```another_df``` DataFrame. Each element of the list corresponds to a row in the DataFrame, so the list has 4 elements because there are 4 indices. Each element of the list of lists has 2 elements because the DataFrame has two columns."
      ]
    },
    {
      "cell_type": "markdown",
      "metadata": {
        "id": "wo9tn0b8VnQv",
        "colab_type": "text"
      },
      "source": [
        "## Using <code>pandas</code> to analyze stock data"
      ]
    },
    {
      "cell_type": "markdown",
      "metadata": {
        "collapsed": true,
        "id": "FMh7-rGXVnQv",
        "colab_type": "text"
      },
      "source": [
        "Recall that we have CSV files that include data for each of the following stocks:\n",
        "\n",
        "1. Dominion Energy Inc. (Stock Symbol: D)\n",
        "2. Exelon Corp. (Stock Symbol: EXC)\n",
        "3. NextEra Energy Inc. (Stock Symbol: NEE)\n",
        "4. Southern Co. (Stock Symbol: SO)\n",
        "5. Duke Energy Corp. (Stock Symbol: DUK)\n",
        "\n",
        "The available data for each stock includes:\n",
        "\n",
        "1. **Date:** The day of the year\n",
        "2. **Open:** The stock opening price of the day\n",
        "3. **High:** The highest observed stock price of the day\n",
        "4. **Low:** The lowest observed stock price of the day\n",
        "5. **Close:** The stock closing price of the day\n",
        "6. **Adj Close:** The adjusted stock closing price for the day (adjusted for splits and dividends)\n",
        "7. **Volume:** The volume of the stock traded over the day\n",
        "\n",
        "To get a better sense of the available data, let's first take a look at just the data for Dominion Energy, listed on the New York Stock Exchange under the symbol D. You are given a CSV file that contains the company's stock data, ```D.```. `pandas` allows easy loading of CSV files through the use of the method [pd.read_csv()](https://pandas.pydata.org/pandas-docs/stable/reference/api/pandas.read_csv.html):"
      ]
    },
    {
      "cell_type": "code",
      "metadata": {
        "scrolled": true,
        "id": "gMyY5q6lVnQx",
        "colab_type": "code",
        "colab": {}
      },
      "source": [
        "# Load a file as a DataFrame and assign to df\n",
        "df = pd.read_csv(\"D.csv\")"
      ],
      "execution_count": 0,
      "outputs": []
    },
    {
      "cell_type": "markdown",
      "metadata": {
        "id": "-5QjfOG7VnQ3",
        "colab_type": "text"
      },
      "source": [
        "The contents of the file ```D.``` are now stored in the DataFrame object ```df```.\n",
        "\n",
        "There are several common methods and attributes available to take a peek at the data and get a sense of it:\n",
        "\n",
        "1. ```DataFrame.head()```  -> returns the column names and first 5 rows by default\n",
        "2. ```DataFrame.tail()```  -> returns the column names and last 5 rows by default\n",
        "3. ```DataFrame.shape```   -> returns (num_rows, num_columns)\n",
        "4. ```DataFrame.columns``` -> returns index of columns\n",
        "5. ```DataFrame.index```   -> returns index of rows\n",
        "\n",
        "In your spare time please check the [pandas documentation](https://pandas.pydata.org/pandas-docs/stable/) and explore the parameters of these methods as well as other methods. Familiarity with this library will dramatically improve your productivity as a data scientist.\n",
        "\n",
        "Using ```df.head()``` and ```df.tail()``` we can take a look at the data contents. Unless specified otherwise, Series and DataFrame objects have indices starting at 0 and increase monotonically upward along the integers."
      ]
    },
    {
      "cell_type": "code",
      "metadata": {
        "id": "EoWDLgM_VnQ3",
        "colab_type": "code",
        "colab": {
          "base_uri": "https://localhost:8080/",
          "height": 204
        },
        "outputId": "b6fdf52b-f0d4-48d7-d5ca-3c3cde90f492"
      },
      "source": [
        "# Look at the head of the DataFrame (i.e. the top rows of the DataFrame)\n",
        "df.head()"
      ],
      "execution_count": 5,
      "outputs": [
        {
          "output_type": "execute_result",
          "data": {
            "text/html": [
              "<div>\n",
              "<style scoped>\n",
              "    .dataframe tbody tr th:only-of-type {\n",
              "        vertical-align: middle;\n",
              "    }\n",
              "\n",
              "    .dataframe tbody tr th {\n",
              "        vertical-align: top;\n",
              "    }\n",
              "\n",
              "    .dataframe thead th {\n",
              "        text-align: right;\n",
              "    }\n",
              "</style>\n",
              "<table border=\"1\" class=\"dataframe\">\n",
              "  <thead>\n",
              "    <tr style=\"text-align: right;\">\n",
              "      <th></th>\n",
              "      <th>Date</th>\n",
              "      <th>Open</th>\n",
              "      <th>High</th>\n",
              "      <th>Low</th>\n",
              "      <th>Close</th>\n",
              "      <th>Adj Close</th>\n",
              "      <th>Volume</th>\n",
              "    </tr>\n",
              "  </thead>\n",
              "  <tbody>\n",
              "    <tr>\n",
              "      <th>0</th>\n",
              "      <td>2014-07-28</td>\n",
              "      <td>69.750000</td>\n",
              "      <td>71.059998</td>\n",
              "      <td>69.750000</td>\n",
              "      <td>70.879997</td>\n",
              "      <td>57.963978</td>\n",
              "      <td>1806400</td>\n",
              "    </tr>\n",
              "    <tr>\n",
              "      <th>1</th>\n",
              "      <td>2014-07-29</td>\n",
              "      <td>70.669998</td>\n",
              "      <td>70.980003</td>\n",
              "      <td>69.930000</td>\n",
              "      <td>69.930000</td>\n",
              "      <td>57.187099</td>\n",
              "      <td>2231100</td>\n",
              "    </tr>\n",
              "    <tr>\n",
              "      <th>2</th>\n",
              "      <td>2014-07-30</td>\n",
              "      <td>70.000000</td>\n",
              "      <td>70.660004</td>\n",
              "      <td>68.400002</td>\n",
              "      <td>68.970001</td>\n",
              "      <td>56.402020</td>\n",
              "      <td>2588900</td>\n",
              "    </tr>\n",
              "    <tr>\n",
              "      <th>3</th>\n",
              "      <td>2014-07-31</td>\n",
              "      <td>68.629997</td>\n",
              "      <td>68.849998</td>\n",
              "      <td>67.580002</td>\n",
              "      <td>67.639999</td>\n",
              "      <td>55.314388</td>\n",
              "      <td>3266900</td>\n",
              "    </tr>\n",
              "    <tr>\n",
              "      <th>4</th>\n",
              "      <td>2014-08-01</td>\n",
              "      <td>67.330002</td>\n",
              "      <td>68.410004</td>\n",
              "      <td>67.220001</td>\n",
              "      <td>67.589996</td>\n",
              "      <td>55.273487</td>\n",
              "      <td>2601800</td>\n",
              "    </tr>\n",
              "  </tbody>\n",
              "</table>\n",
              "</div>"
            ],
            "text/plain": [
              "         Date       Open       High        Low      Close  Adj Close   Volume\n",
              "0  2014-07-28  69.750000  71.059998  69.750000  70.879997  57.963978  1806400\n",
              "1  2014-07-29  70.669998  70.980003  69.930000  69.930000  57.187099  2231100\n",
              "2  2014-07-30  70.000000  70.660004  68.400002  68.970001  56.402020  2588900\n",
              "3  2014-07-31  68.629997  68.849998  67.580002  67.639999  55.314388  3266900\n",
              "4  2014-08-01  67.330002  68.410004  67.220001  67.589996  55.273487  2601800"
            ]
          },
          "metadata": {
            "tags": []
          },
          "execution_count": 5
        }
      ]
    },
    {
      "cell_type": "code",
      "metadata": {
        "scrolled": true,
        "id": "ss6Hpl0lVnQ7",
        "colab_type": "code",
        "colab": {
          "base_uri": "https://localhost:8080/",
          "height": 204
        },
        "outputId": "4d69db0d-b0a8-4c0c-c40d-3c5f09645624"
      },
      "source": [
        "# Look at the tail of the DataFrame (i.e. the top rows of the DataFrame)\n",
        "df.tail()"
      ],
      "execution_count": 6,
      "outputs": [
        {
          "output_type": "execute_result",
          "data": {
            "text/html": [
              "<div>\n",
              "<style scoped>\n",
              "    .dataframe tbody tr th:only-of-type {\n",
              "        vertical-align: middle;\n",
              "    }\n",
              "\n",
              "    .dataframe tbody tr th {\n",
              "        vertical-align: top;\n",
              "    }\n",
              "\n",
              "    .dataframe thead th {\n",
              "        text-align: right;\n",
              "    }\n",
              "</style>\n",
              "<table border=\"1\" class=\"dataframe\">\n",
              "  <thead>\n",
              "    <tr style=\"text-align: right;\">\n",
              "      <th></th>\n",
              "      <th>Date</th>\n",
              "      <th>Open</th>\n",
              "      <th>High</th>\n",
              "      <th>Low</th>\n",
              "      <th>Close</th>\n",
              "      <th>Adj Close</th>\n",
              "      <th>Volume</th>\n",
              "    </tr>\n",
              "  </thead>\n",
              "  <tbody>\n",
              "    <tr>\n",
              "      <th>1254</th>\n",
              "      <td>2019-07-22</td>\n",
              "      <td>76.879997</td>\n",
              "      <td>76.930000</td>\n",
              "      <td>75.779999</td>\n",
              "      <td>76.260002</td>\n",
              "      <td>76.260002</td>\n",
              "      <td>2956500</td>\n",
              "    </tr>\n",
              "    <tr>\n",
              "      <th>1255</th>\n",
              "      <td>2019-07-23</td>\n",
              "      <td>76.099998</td>\n",
              "      <td>76.199997</td>\n",
              "      <td>75.269997</td>\n",
              "      <td>75.430000</td>\n",
              "      <td>75.430000</td>\n",
              "      <td>3175600</td>\n",
              "    </tr>\n",
              "    <tr>\n",
              "      <th>1256</th>\n",
              "      <td>2019-07-24</td>\n",
              "      <td>75.660004</td>\n",
              "      <td>75.720001</td>\n",
              "      <td>74.889999</td>\n",
              "      <td>75.180000</td>\n",
              "      <td>75.180000</td>\n",
              "      <td>3101900</td>\n",
              "    </tr>\n",
              "    <tr>\n",
              "      <th>1257</th>\n",
              "      <td>2019-07-25</td>\n",
              "      <td>75.150002</td>\n",
              "      <td>75.430000</td>\n",
              "      <td>74.610001</td>\n",
              "      <td>74.860001</td>\n",
              "      <td>74.860001</td>\n",
              "      <td>3417200</td>\n",
              "    </tr>\n",
              "    <tr>\n",
              "      <th>1258</th>\n",
              "      <td>2019-07-26</td>\n",
              "      <td>74.730003</td>\n",
              "      <td>75.349998</td>\n",
              "      <td>74.610001</td>\n",
              "      <td>75.150002</td>\n",
              "      <td>75.150002</td>\n",
              "      <td>3076500</td>\n",
              "    </tr>\n",
              "  </tbody>\n",
              "</table>\n",
              "</div>"
            ],
            "text/plain": [
              "            Date       Open       High  ...      Close  Adj Close   Volume\n",
              "1254  2019-07-22  76.879997  76.930000  ...  76.260002  76.260002  2956500\n",
              "1255  2019-07-23  76.099998  76.199997  ...  75.430000  75.430000  3175600\n",
              "1256  2019-07-24  75.660004  75.720001  ...  75.180000  75.180000  3101900\n",
              "1257  2019-07-25  75.150002  75.430000  ...  74.860001  74.860001  3417200\n",
              "1258  2019-07-26  74.730003  75.349998  ...  75.150002  75.150002  3076500\n",
              "\n",
              "[5 rows x 7 columns]"
            ]
          },
          "metadata": {
            "tags": []
          },
          "execution_count": 6
        }
      ]
    },
    {
      "cell_type": "markdown",
      "metadata": {
        "id": "0zDZK-OJVnQ-",
        "colab_type": "text"
      },
      "source": [
        "Thus, we see there are 1259 data entries (each with 7 data points) for Dominion Energy. The shape of a DataFrame is accessed using the ```shape``` attribute:"
      ]
    },
    {
      "cell_type": "code",
      "metadata": {
        "id": "QonnJWEaVnQ-",
        "colab_type": "code",
        "colab": {
          "base_uri": "https://localhost:8080/",
          "height": 34
        },
        "outputId": "aeb05fd8-b6a4-4b3e-a8b9-80cbd95647d8"
      },
      "source": [
        "# Determine the shape of the two-dimensional structure, that is (num_rows, num_columns)\n",
        "df.shape"
      ],
      "execution_count": 7,
      "outputs": [
        {
          "output_type": "execute_result",
          "data": {
            "text/plain": [
              "(1259, 7)"
            ]
          },
          "metadata": {
            "tags": []
          },
          "execution_count": 7
        }
      ]
    },
    {
      "cell_type": "markdown",
      "metadata": {
        "id": "-Up3c24FVnRC",
        "colab_type": "text"
      },
      "source": [
        "It's important to note that ```DataFrame.columns``` and ```DataFrame.index``` return an index object instead of a list. To cast an index to a list for further list manipulation, we use the ```list()``` method:"
      ]
    },
    {
      "cell_type": "code",
      "metadata": {
        "id": "cZya781xVnRE",
        "colab_type": "code",
        "colab": {
          "base_uri": "https://localhost:8080/",
          "height": 34
        },
        "outputId": "cd867fae-f266-489c-db80-807330deab2e"
      },
      "source": [
        "# List of the column names of the DataFrame\n",
        "list(df.columns)"
      ],
      "execution_count": 8,
      "outputs": [
        {
          "output_type": "execute_result",
          "data": {
            "text/plain": [
              "['Date', 'Open', 'High', 'Low', 'Close', 'Adj Close', 'Volume']"
            ]
          },
          "metadata": {
            "tags": []
          },
          "execution_count": 8
        }
      ]
    },
    {
      "cell_type": "code",
      "metadata": {
        "scrolled": true,
        "id": "1tPFwOvzVnRK",
        "colab_type": "code",
        "colab": {
          "base_uri": "https://localhost:8080/",
          "height": 34
        },
        "outputId": "d8386811-ff3a-488e-af4f-33c244d60f9a"
      },
      "source": [
        "# List of the column names of the DataFrame\n",
        "list(df.index)[0:20]  # only showing first 20 index values so reduce screen output"
      ],
      "execution_count": 9,
      "outputs": [
        {
          "output_type": "execute_result",
          "data": {
            "text/plain": [
              "[0, 1, 2, 3, 4, 5, 6, 7, 8, 9, 10, 11, 12, 13, 14, 15, 16, 17, 18, 19]"
            ]
          },
          "metadata": {
            "tags": []
          },
          "execution_count": 9
        }
      ]
    },
    {
      "cell_type": "markdown",
      "metadata": {
        "id": "YwTxGVjGVnRN",
        "colab_type": "text"
      },
      "source": [
        "## Creating additional variables relevant to stock volatility"
      ]
    },
    {
      "cell_type": "markdown",
      "metadata": {
        "id": "NmYyDUSxVnRO",
        "colab_type": "text"
      },
      "source": [
        "Oftentimes, the data provided to you will not be sufficient to achieve your goal. You may have to add additional variables or data features to assist you. Recall that our original question concerned the relationship between stock trading volume and volatility. Therefore, our DataFrame must have features related to both of these quantities.\n",
        "\n",
        "It can be helpful to think about adding columns to DataFrames as adding adjacent columns one-by-one in Excel. Here is an example of how to do it:"
      ]
    },
    {
      "cell_type": "code",
      "metadata": {
        "id": "x0AUOsruVnRO",
        "colab_type": "code",
        "colab": {
          "base_uri": "https://localhost:8080/",
          "height": 204
        },
        "outputId": "d4adac0f-02f0-4db9-8139-318f19493b43"
      },
      "source": [
        "# Add a new column named \"Symbol\"\n",
        "df[\"Symbol\"] = \"D\"\n",
        "df.head()"
      ],
      "execution_count": 10,
      "outputs": [
        {
          "output_type": "execute_result",
          "data": {
            "text/html": [
              "<div>\n",
              "<style scoped>\n",
              "    .dataframe tbody tr th:only-of-type {\n",
              "        vertical-align: middle;\n",
              "    }\n",
              "\n",
              "    .dataframe tbody tr th {\n",
              "        vertical-align: top;\n",
              "    }\n",
              "\n",
              "    .dataframe thead th {\n",
              "        text-align: right;\n",
              "    }\n",
              "</style>\n",
              "<table border=\"1\" class=\"dataframe\">\n",
              "  <thead>\n",
              "    <tr style=\"text-align: right;\">\n",
              "      <th></th>\n",
              "      <th>Date</th>\n",
              "      <th>Open</th>\n",
              "      <th>High</th>\n",
              "      <th>Low</th>\n",
              "      <th>Close</th>\n",
              "      <th>Adj Close</th>\n",
              "      <th>Volume</th>\n",
              "      <th>Symbol</th>\n",
              "    </tr>\n",
              "  </thead>\n",
              "  <tbody>\n",
              "    <tr>\n",
              "      <th>0</th>\n",
              "      <td>2014-07-28</td>\n",
              "      <td>69.750000</td>\n",
              "      <td>71.059998</td>\n",
              "      <td>69.750000</td>\n",
              "      <td>70.879997</td>\n",
              "      <td>57.963978</td>\n",
              "      <td>1806400</td>\n",
              "      <td>D</td>\n",
              "    </tr>\n",
              "    <tr>\n",
              "      <th>1</th>\n",
              "      <td>2014-07-29</td>\n",
              "      <td>70.669998</td>\n",
              "      <td>70.980003</td>\n",
              "      <td>69.930000</td>\n",
              "      <td>69.930000</td>\n",
              "      <td>57.187099</td>\n",
              "      <td>2231100</td>\n",
              "      <td>D</td>\n",
              "    </tr>\n",
              "    <tr>\n",
              "      <th>2</th>\n",
              "      <td>2014-07-30</td>\n",
              "      <td>70.000000</td>\n",
              "      <td>70.660004</td>\n",
              "      <td>68.400002</td>\n",
              "      <td>68.970001</td>\n",
              "      <td>56.402020</td>\n",
              "      <td>2588900</td>\n",
              "      <td>D</td>\n",
              "    </tr>\n",
              "    <tr>\n",
              "      <th>3</th>\n",
              "      <td>2014-07-31</td>\n",
              "      <td>68.629997</td>\n",
              "      <td>68.849998</td>\n",
              "      <td>67.580002</td>\n",
              "      <td>67.639999</td>\n",
              "      <td>55.314388</td>\n",
              "      <td>3266900</td>\n",
              "      <td>D</td>\n",
              "    </tr>\n",
              "    <tr>\n",
              "      <th>4</th>\n",
              "      <td>2014-08-01</td>\n",
              "      <td>67.330002</td>\n",
              "      <td>68.410004</td>\n",
              "      <td>67.220001</td>\n",
              "      <td>67.589996</td>\n",
              "      <td>55.273487</td>\n",
              "      <td>2601800</td>\n",
              "      <td>D</td>\n",
              "    </tr>\n",
              "  </tbody>\n",
              "</table>\n",
              "</div>"
            ],
            "text/plain": [
              "         Date       Open       High  ...  Adj Close   Volume  Symbol\n",
              "0  2014-07-28  69.750000  71.059998  ...  57.963978  1806400       D\n",
              "1  2014-07-29  70.669998  70.980003  ...  57.187099  2231100       D\n",
              "2  2014-07-30  70.000000  70.660004  ...  56.402020  2588900       D\n",
              "3  2014-07-31  68.629997  68.849998  ...  55.314388  3266900       D\n",
              "4  2014-08-01  67.330002  68.410004  ...  55.273487  2601800       D\n",
              "\n",
              "[5 rows x 8 columns]"
            ]
          },
          "metadata": {
            "tags": []
          },
          "execution_count": 10
        }
      ]
    },
    {
      "cell_type": "code",
      "metadata": {
        "id": "9AaBX_XgVnRR",
        "colab_type": "code",
        "colab": {
          "base_uri": "https://localhost:8080/",
          "height": 119
        },
        "outputId": "c8660791-2f4d-4b6d-d539-92f470f9892a"
      },
      "source": [
        "# We can access a column by using [] brackets and the column name\n",
        "df['Volume'].head() # added .head() to suppress output"
      ],
      "execution_count": 11,
      "outputs": [
        {
          "output_type": "execute_result",
          "data": {
            "text/plain": [
              "0    1806400\n",
              "1    2231100\n",
              "2    2588900\n",
              "3    3266900\n",
              "4    2601800\n",
              "Name: Volume, dtype: int64"
            ]
          },
          "metadata": {
            "tags": []
          },
          "execution_count": 11
        }
      ]
    },
    {
      "cell_type": "code",
      "metadata": {
        "id": "N4S9A5yZVnRU",
        "colab_type": "code",
        "colab": {
          "base_uri": "https://localhost:8080/",
          "height": 204
        },
        "outputId": "09ba87b4-e0a4-43aa-8eff-1b58862aed7b"
      },
      "source": [
        "# Add a new column named \"Volume_Millions\", which is calculated from the Volume column currently in df\n",
        "# divide every row in df['Volume'] by 1 million, store in new column\n",
        "df[\"Volume_Millions\"] = df[\"Volume\"] / 1000000.0\n",
        "df.head()"
      ],
      "execution_count": 12,
      "outputs": [
        {
          "output_type": "execute_result",
          "data": {
            "text/html": [
              "<div>\n",
              "<style scoped>\n",
              "    .dataframe tbody tr th:only-of-type {\n",
              "        vertical-align: middle;\n",
              "    }\n",
              "\n",
              "    .dataframe tbody tr th {\n",
              "        vertical-align: top;\n",
              "    }\n",
              "\n",
              "    .dataframe thead th {\n",
              "        text-align: right;\n",
              "    }\n",
              "</style>\n",
              "<table border=\"1\" class=\"dataframe\">\n",
              "  <thead>\n",
              "    <tr style=\"text-align: right;\">\n",
              "      <th></th>\n",
              "      <th>Date</th>\n",
              "      <th>Open</th>\n",
              "      <th>High</th>\n",
              "      <th>Low</th>\n",
              "      <th>Close</th>\n",
              "      <th>Adj Close</th>\n",
              "      <th>Volume</th>\n",
              "      <th>Symbol</th>\n",
              "      <th>Volume_Millions</th>\n",
              "    </tr>\n",
              "  </thead>\n",
              "  <tbody>\n",
              "    <tr>\n",
              "      <th>0</th>\n",
              "      <td>2014-07-28</td>\n",
              "      <td>69.750000</td>\n",
              "      <td>71.059998</td>\n",
              "      <td>69.750000</td>\n",
              "      <td>70.879997</td>\n",
              "      <td>57.963978</td>\n",
              "      <td>1806400</td>\n",
              "      <td>D</td>\n",
              "      <td>1.8064</td>\n",
              "    </tr>\n",
              "    <tr>\n",
              "      <th>1</th>\n",
              "      <td>2014-07-29</td>\n",
              "      <td>70.669998</td>\n",
              "      <td>70.980003</td>\n",
              "      <td>69.930000</td>\n",
              "      <td>69.930000</td>\n",
              "      <td>57.187099</td>\n",
              "      <td>2231100</td>\n",
              "      <td>D</td>\n",
              "      <td>2.2311</td>\n",
              "    </tr>\n",
              "    <tr>\n",
              "      <th>2</th>\n",
              "      <td>2014-07-30</td>\n",
              "      <td>70.000000</td>\n",
              "      <td>70.660004</td>\n",
              "      <td>68.400002</td>\n",
              "      <td>68.970001</td>\n",
              "      <td>56.402020</td>\n",
              "      <td>2588900</td>\n",
              "      <td>D</td>\n",
              "      <td>2.5889</td>\n",
              "    </tr>\n",
              "    <tr>\n",
              "      <th>3</th>\n",
              "      <td>2014-07-31</td>\n",
              "      <td>68.629997</td>\n",
              "      <td>68.849998</td>\n",
              "      <td>67.580002</td>\n",
              "      <td>67.639999</td>\n",
              "      <td>55.314388</td>\n",
              "      <td>3266900</td>\n",
              "      <td>D</td>\n",
              "      <td>3.2669</td>\n",
              "    </tr>\n",
              "    <tr>\n",
              "      <th>4</th>\n",
              "      <td>2014-08-01</td>\n",
              "      <td>67.330002</td>\n",
              "      <td>68.410004</td>\n",
              "      <td>67.220001</td>\n",
              "      <td>67.589996</td>\n",
              "      <td>55.273487</td>\n",
              "      <td>2601800</td>\n",
              "      <td>D</td>\n",
              "      <td>2.6018</td>\n",
              "    </tr>\n",
              "  </tbody>\n",
              "</table>\n",
              "</div>"
            ],
            "text/plain": [
              "         Date       Open       High  ...   Volume  Symbol  Volume_Millions\n",
              "0  2014-07-28  69.750000  71.059998  ...  1806400       D           1.8064\n",
              "1  2014-07-29  70.669998  70.980003  ...  2231100       D           2.2311\n",
              "2  2014-07-30  70.000000  70.660004  ...  2588900       D           2.5889\n",
              "3  2014-07-31  68.629997  68.849998  ...  3266900       D           3.2669\n",
              "4  2014-08-01  67.330002  68.410004  ...  2601800       D           2.6018\n",
              "\n",
              "[5 rows x 9 columns]"
            ]
          },
          "metadata": {
            "tags": []
          },
          "execution_count": 12
        }
      ]
    },
    {
      "cell_type": "code",
      "metadata": {
        "id": "SUAn3UQjVnRX",
        "colab_type": "code",
        "colab": {
          "base_uri": "https://localhost:8080/",
          "height": 34
        },
        "outputId": "7ce0c8ed-7492-4664-c2b2-0a1280d120c8"
      },
      "source": [
        "# Take a look at the updated DataFrame shape. Two new columns have been added.\n",
        "df.shape"
      ],
      "execution_count": 13,
      "outputs": [
        {
          "output_type": "execute_result",
          "data": {
            "text/plain": [
              "(1259, 9)"
            ]
          },
          "metadata": {
            "tags": []
          },
          "execution_count": 13
        }
      ]
    },
    {
      "cell_type": "markdown",
      "metadata": {
        "id": "3ol3nWDLVnRb",
        "colab_type": "text"
      },
      "source": [
        "As discussed, we need to have a feature in our DataFrame that is related to volatility. Because this currently does not exist, we must create it from the already available features. Recall that volatility is the standard deviation of daily returns over a period of time, so let's create a feature for daily returns:"
      ]
    },
    {
      "cell_type": "code",
      "metadata": {
        "id": "XG09t5dZVnRc",
        "colab_type": "code",
        "colab": {}
      },
      "source": [
        "df[\"VolStat\"] = (df[\"High\"] - df[\"Low\"]) / df[\"Open\"]\n",
        "df[\"Return\"] = (df[\"Close\"] / df[\"Open\"]) - 1.0"
      ],
      "execution_count": 0,
      "outputs": []
    },
    {
      "cell_type": "markdown",
      "metadata": {
        "id": "jgeis4G8VnRe",
        "colab_type": "text"
      },
      "source": [
        "Here we see the power of ```pandas```. We can simply perform mathematical operations on columns of DataFrames just as if the DataFrames were single variables themselves."
      ]
    },
    {
      "cell_type": "code",
      "metadata": {
        "id": "GQXxRiHKVnRf",
        "colab_type": "code",
        "colab": {
          "base_uri": "https://localhost:8080/",
          "height": 204
        },
        "outputId": "05d3a855-ce01-4ed5-d9be-808a5ae2f0d0"
      },
      "source": [
        "df.head()"
      ],
      "execution_count": 15,
      "outputs": [
        {
          "output_type": "execute_result",
          "data": {
            "text/html": [
              "<div>\n",
              "<style scoped>\n",
              "    .dataframe tbody tr th:only-of-type {\n",
              "        vertical-align: middle;\n",
              "    }\n",
              "\n",
              "    .dataframe tbody tr th {\n",
              "        vertical-align: top;\n",
              "    }\n",
              "\n",
              "    .dataframe thead th {\n",
              "        text-align: right;\n",
              "    }\n",
              "</style>\n",
              "<table border=\"1\" class=\"dataframe\">\n",
              "  <thead>\n",
              "    <tr style=\"text-align: right;\">\n",
              "      <th></th>\n",
              "      <th>Date</th>\n",
              "      <th>Open</th>\n",
              "      <th>High</th>\n",
              "      <th>Low</th>\n",
              "      <th>Close</th>\n",
              "      <th>Adj Close</th>\n",
              "      <th>Volume</th>\n",
              "      <th>Symbol</th>\n",
              "      <th>Volume_Millions</th>\n",
              "      <th>VolStat</th>\n",
              "      <th>Return</th>\n",
              "    </tr>\n",
              "  </thead>\n",
              "  <tbody>\n",
              "    <tr>\n",
              "      <th>0</th>\n",
              "      <td>2014-07-28</td>\n",
              "      <td>69.750000</td>\n",
              "      <td>71.059998</td>\n",
              "      <td>69.750000</td>\n",
              "      <td>70.879997</td>\n",
              "      <td>57.963978</td>\n",
              "      <td>1806400</td>\n",
              "      <td>D</td>\n",
              "      <td>1.8064</td>\n",
              "      <td>0.018781</td>\n",
              "      <td>0.016201</td>\n",
              "    </tr>\n",
              "    <tr>\n",
              "      <th>1</th>\n",
              "      <td>2014-07-29</td>\n",
              "      <td>70.669998</td>\n",
              "      <td>70.980003</td>\n",
              "      <td>69.930000</td>\n",
              "      <td>69.930000</td>\n",
              "      <td>57.187099</td>\n",
              "      <td>2231100</td>\n",
              "      <td>D</td>\n",
              "      <td>2.2311</td>\n",
              "      <td>0.014858</td>\n",
              "      <td>-0.010471</td>\n",
              "    </tr>\n",
              "    <tr>\n",
              "      <th>2</th>\n",
              "      <td>2014-07-30</td>\n",
              "      <td>70.000000</td>\n",
              "      <td>70.660004</td>\n",
              "      <td>68.400002</td>\n",
              "      <td>68.970001</td>\n",
              "      <td>56.402020</td>\n",
              "      <td>2588900</td>\n",
              "      <td>D</td>\n",
              "      <td>2.5889</td>\n",
              "      <td>0.032286</td>\n",
              "      <td>-0.014714</td>\n",
              "    </tr>\n",
              "    <tr>\n",
              "      <th>3</th>\n",
              "      <td>2014-07-31</td>\n",
              "      <td>68.629997</td>\n",
              "      <td>68.849998</td>\n",
              "      <td>67.580002</td>\n",
              "      <td>67.639999</td>\n",
              "      <td>55.314388</td>\n",
              "      <td>3266900</td>\n",
              "      <td>D</td>\n",
              "      <td>3.2669</td>\n",
              "      <td>0.018505</td>\n",
              "      <td>-0.014425</td>\n",
              "    </tr>\n",
              "    <tr>\n",
              "      <th>4</th>\n",
              "      <td>2014-08-01</td>\n",
              "      <td>67.330002</td>\n",
              "      <td>68.410004</td>\n",
              "      <td>67.220001</td>\n",
              "      <td>67.589996</td>\n",
              "      <td>55.273487</td>\n",
              "      <td>2601800</td>\n",
              "      <td>D</td>\n",
              "      <td>2.6018</td>\n",
              "      <td>0.017674</td>\n",
              "      <td>0.003861</td>\n",
              "    </tr>\n",
              "  </tbody>\n",
              "</table>\n",
              "</div>"
            ],
            "text/plain": [
              "         Date       Open       High  ...  Volume_Millions   VolStat    Return\n",
              "0  2014-07-28  69.750000  71.059998  ...           1.8064  0.018781  0.016201\n",
              "1  2014-07-29  70.669998  70.980003  ...           2.2311  0.014858 -0.010471\n",
              "2  2014-07-30  70.000000  70.660004  ...           2.5889  0.032286 -0.014714\n",
              "3  2014-07-31  68.629997  68.849998  ...           3.2669  0.018505 -0.014425\n",
              "4  2014-08-01  67.330002  68.410004  ...           2.6018  0.017674  0.003861\n",
              "\n",
              "[5 rows x 11 columns]"
            ]
          },
          "metadata": {
            "tags": []
          },
          "execution_count": 15
        }
      ]
    },
    {
      "cell_type": "markdown",
      "metadata": {
        "id": "EBcFEYdnVnRi",
        "colab_type": "text"
      },
      "source": [
        "Now we have features relevant to the original question, and can proceed to the analysis step. A common first step in data analysis is to learn about the distribution of the available data. We will do this next."
      ]
    },
    {
      "cell_type": "markdown",
      "metadata": {
        "id": "S8nCSv3UVnRi",
        "colab_type": "text"
      },
      "source": [
        "## Learning about the data distribution through summary statistics"
      ]
    },
    {
      "cell_type": "markdown",
      "metadata": {
        "collapsed": true,
        "id": "YheefOufVnRj",
        "colab_type": "text"
      },
      "source": [
        "Let's aggregate summary statistics for the five energy sector companies under study. Fortunately, the DataFrame and Series objects offer a myriad of data summary statistics methods:\n",
        "\n",
        "1. ```min()```\n",
        "2. ```median()```\n",
        "3. ```mean()```\n",
        "4. ```max()```\n",
        "5. ```quantile()```\n",
        "\n",
        "Below, each method is used on the ```Volume_Millions``` column. Notice how simple the functions are to apply to the DataFrame. Simply type the name of the DataFrame, followed by a ```.``` and then the method name you'd like to calculate. We've chosen to select a single column ```Volume_Millions``` from the DataFrame ```df```, but you could have just as easily called these methods on the full DataFrame rather than a single column:"
      ]
    },
    {
      "cell_type": "code",
      "metadata": {
        "id": "MBY6wkSeVnRj",
        "colab_type": "code",
        "colab": {}
      },
      "source": [
        "# Calculate the minimum of the Volume_Millions column\n",
        "df[\"Volume_Millions\"].min()"
      ],
      "execution_count": 0,
      "outputs": []
    },
    {
      "cell_type": "code",
      "metadata": {
        "id": "EL6GtjHkVnRm",
        "colab_type": "code",
        "colab": {}
      },
      "source": [
        "# Calculate the median of the Volume_Millions column\n",
        "df[\"Volume_Millions\"].median()"
      ],
      "execution_count": 0,
      "outputs": []
    },
    {
      "cell_type": "code",
      "metadata": {
        "id": "3MHSSsKGVnRo",
        "colab_type": "code",
        "colab": {}
      },
      "source": [
        "# Calculate the average of the Volume_Millions column\n",
        "df[\"Volume_Millions\"].mean()"
      ],
      "execution_count": 0,
      "outputs": []
    },
    {
      "cell_type": "code",
      "metadata": {
        "scrolled": true,
        "id": "0BCqxnkiVnRq",
        "colab_type": "code",
        "colab": {}
      },
      "source": [
        "# Calculate the maximum of the Volume_Millions column\n",
        "df[\"Volume_Millions\"].max()"
      ],
      "execution_count": 0,
      "outputs": []
    },
    {
      "cell_type": "markdown",
      "metadata": {
        "id": "F9U5bjRMVnRt",
        "colab_type": "text"
      },
      "source": [
        "We'd also like to explore the data distribution at a more granular level to see how the distribution looks beyond the simple summary statistics presented above. For this, we can use the ```quantile()``` method. The ```quantile()``` method will return the value which represents the given percentile of all the data under study (in this case, of the ```Volume_Millions``` data):"
      ]
    },
    {
      "cell_type": "code",
      "metadata": {
        "id": "DEabUhs-VnRu",
        "colab_type": "code",
        "colab": {}
      },
      "source": [
        "# Calculate the 25th percentile\n",
        "df['Volume_Millions'].quantile(0.25)"
      ],
      "execution_count": 0,
      "outputs": []
    },
    {
      "cell_type": "code",
      "metadata": {
        "scrolled": true,
        "id": "Yp02bVEjVnRx",
        "colab_type": "code",
        "colab": {}
      },
      "source": [
        "# Calculate the 75th percentile\n",
        "df['Volume_Millions'].quantile(0.75)"
      ],
      "execution_count": 0,
      "outputs": []
    },
    {
      "cell_type": "markdown",
      "metadata": {
        "id": "Ht9LeBWuVnR0",
        "colab_type": "text"
      },
      "source": [
        "Is there a more efficient method to quickly compute all of these summary statistics? Yes. One incredibly useful method that combines these summary statistics and also adds a couple others is the [describe()](https://pandas.pydata.org/pandas-docs/stable/reference/api/pandas.DataFrame.describe.html) method:"
      ]
    },
    {
      "cell_type": "code",
      "metadata": {
        "id": "q3oDV1OmVnR0",
        "colab_type": "code",
        "colab": {
          "base_uri": "https://localhost:8080/",
          "height": 170
        },
        "outputId": "7f605178-f725-455e-ea53-f408036f1f70"
      },
      "source": [
        "df['Volume_Millions'].describe()"
      ],
      "execution_count": 17,
      "outputs": [
        {
          "output_type": "execute_result",
          "data": {
            "text/plain": [
              "count    1259.000000\n",
              "mean        3.088129\n",
              "std         1.548809\n",
              "min         0.738400\n",
              "25%         2.088800\n",
              "50%         2.695700\n",
              "75%         3.612850\n",
              "max        14.587400\n",
              "Name: Volume_Millions, dtype: float64"
            ]
          },
          "metadata": {
            "tags": []
          },
          "execution_count": 17
        }
      ]
    },
    {
      "cell_type": "markdown",
      "metadata": {
        "id": "3ELw8dXYVnR3",
        "colab_type": "text"
      },
      "source": [
        "From this distribution analysis of the daily trading volume, we can see that more than 14 million shares would be a very large trading day, whereas below 2 million shares would be a relatively small trading day."
      ]
    },
    {
      "cell_type": "markdown",
      "metadata": {
        "id": "PIPNAaFAVnR3",
        "colab_type": "text"
      },
      "source": [
        "In addition to describe, there is a [value_counts() method](https://pandas.pydata.org/pandas-docs/stable/reference/api/pandas.Series.value_counts.html) for checking the frequency of elements in categorical data. Please be aware that `value_counts()` is a method of the Series class and NOT the DataFrame class. This means you have to isolate a specific column of a DataFrame before calling `value_counts()`:"
      ]
    },
    {
      "cell_type": "code",
      "metadata": {
        "id": "bjecNFj4VnR4",
        "colab_type": "code",
        "colab": {
          "base_uri": "https://localhost:8080/",
          "height": 297
        },
        "outputId": "aabf5a40-0919-40c2-bbd9-ded2542033d3"
      },
      "source": [
        "dict_data = {\n",
        "    \"numbers\": [1, 2, 3, 4, 5, 6, 7, 8],\n",
        "    \"color\": [\"red\", \"red\", \"red\", \"blue\", \"blue\", \"green\", \"blue\", \"green\"],\n",
        "}\n",
        "category_df = pd.DataFrame(data=dict_data)\n",
        "\n",
        "category_df"
      ],
      "execution_count": 18,
      "outputs": [
        {
          "output_type": "execute_result",
          "data": {
            "text/html": [
              "<div>\n",
              "<style scoped>\n",
              "    .dataframe tbody tr th:only-of-type {\n",
              "        vertical-align: middle;\n",
              "    }\n",
              "\n",
              "    .dataframe tbody tr th {\n",
              "        vertical-align: top;\n",
              "    }\n",
              "\n",
              "    .dataframe thead th {\n",
              "        text-align: right;\n",
              "    }\n",
              "</style>\n",
              "<table border=\"1\" class=\"dataframe\">\n",
              "  <thead>\n",
              "    <tr style=\"text-align: right;\">\n",
              "      <th></th>\n",
              "      <th>numbers</th>\n",
              "      <th>color</th>\n",
              "    </tr>\n",
              "  </thead>\n",
              "  <tbody>\n",
              "    <tr>\n",
              "      <th>0</th>\n",
              "      <td>1</td>\n",
              "      <td>red</td>\n",
              "    </tr>\n",
              "    <tr>\n",
              "      <th>1</th>\n",
              "      <td>2</td>\n",
              "      <td>red</td>\n",
              "    </tr>\n",
              "    <tr>\n",
              "      <th>2</th>\n",
              "      <td>3</td>\n",
              "      <td>red</td>\n",
              "    </tr>\n",
              "    <tr>\n",
              "      <th>3</th>\n",
              "      <td>4</td>\n",
              "      <td>blue</td>\n",
              "    </tr>\n",
              "    <tr>\n",
              "      <th>4</th>\n",
              "      <td>5</td>\n",
              "      <td>blue</td>\n",
              "    </tr>\n",
              "    <tr>\n",
              "      <th>5</th>\n",
              "      <td>6</td>\n",
              "      <td>green</td>\n",
              "    </tr>\n",
              "    <tr>\n",
              "      <th>6</th>\n",
              "      <td>7</td>\n",
              "      <td>blue</td>\n",
              "    </tr>\n",
              "    <tr>\n",
              "      <th>7</th>\n",
              "      <td>8</td>\n",
              "      <td>green</td>\n",
              "    </tr>\n",
              "  </tbody>\n",
              "</table>\n",
              "</div>"
            ],
            "text/plain": [
              "   numbers  color\n",
              "0        1    red\n",
              "1        2    red\n",
              "2        3    red\n",
              "3        4   blue\n",
              "4        5   blue\n",
              "5        6  green\n",
              "6        7   blue\n",
              "7        8  green"
            ]
          },
          "metadata": {
            "tags": []
          },
          "execution_count": 18
        }
      ]
    },
    {
      "cell_type": "code",
      "metadata": {
        "id": "W1nioDLvVnR6",
        "colab_type": "code",
        "colab": {}
      },
      "source": [
        "#why doesn't this work? (uncomment the expression that follows)\n",
        "#category_df.value_counts()"
      ],
      "execution_count": 0,
      "outputs": []
    },
    {
      "cell_type": "code",
      "metadata": {
        "id": "jnk_6scfVnR9",
        "colab_type": "code",
        "colab": {
          "base_uri": "https://localhost:8080/",
          "height": 129
        },
        "outputId": "fb06ca65-8952-4b9f-ea73-54cb9369340c"
      },
      "source": [
        "# only Series objects can call this method (uncomment the following expression)\n",
        " category_df['color'].value_counts()"
      ],
      "execution_count": 19,
      "outputs": [
        {
          "output_type": "error",
          "ename": "IndentationError",
          "evalue": "ignored",
          "traceback": [
            "\u001b[0;36m  File \u001b[0;32m\"<ipython-input-19-5fc043901c8a>\"\u001b[0;36m, line \u001b[0;32m2\u001b[0m\n\u001b[0;31m    category_df['color'].value_counts()\u001b[0m\n\u001b[0m    ^\u001b[0m\n\u001b[0;31mIndentationError\u001b[0m\u001b[0;31m:\u001b[0m unexpected indent\n"
          ]
        }
      ]
    },
    {
      "cell_type": "markdown",
      "metadata": {
        "id": "3wOes68QVnR_",
        "colab_type": "text"
      },
      "source": [
        "### Exercise 1:\n",
        "\n",
        "Determine the 25th, 50th, and 75th percentile for the ```Open```, ```High```, ```Low```, and ```Close``` columns of ```df```."
      ]
    },
    {
      "cell_type": "markdown",
      "metadata": {
        "id": "4Q9kPs9CVnSA",
        "colab_type": "text"
      },
      "source": [
        "**Answer.**"
      ]
    },
    {
      "cell_type": "code",
      "metadata": {
        "id": "djKtnqm6h59L",
        "colab_type": "code",
        "colab": {
          "base_uri": "https://localhost:8080/",
          "height": 142
        },
        "outputId": "6791b8db-1621-403a-aa0c-d38996c58e84"
      },
      "source": [
        "df[[\"Open\",\"High\", \"Low\", \"Close\"]].quantile((0.25,0.50, 0.75))"
      ],
      "execution_count": 25,
      "outputs": [
        {
          "output_type": "execute_result",
          "data": {
            "text/html": [
              "<div>\n",
              "<style scoped>\n",
              "    .dataframe tbody tr th:only-of-type {\n",
              "        vertical-align: middle;\n",
              "    }\n",
              "\n",
              "    .dataframe tbody tr th {\n",
              "        vertical-align: top;\n",
              "    }\n",
              "\n",
              "    .dataframe thead th {\n",
              "        text-align: right;\n",
              "    }\n",
              "</style>\n",
              "<table border=\"1\" class=\"dataframe\">\n",
              "  <thead>\n",
              "    <tr style=\"text-align: right;\">\n",
              "      <th></th>\n",
              "      <th>Open</th>\n",
              "      <th>High</th>\n",
              "      <th>Low</th>\n",
              "      <th>Close</th>\n",
              "    </tr>\n",
              "  </thead>\n",
              "  <tbody>\n",
              "    <tr>\n",
              "      <th>0.25</th>\n",
              "      <td>70.220001</td>\n",
              "      <td>70.829998</td>\n",
              "      <td>69.685001</td>\n",
              "      <td>70.239998</td>\n",
              "    </tr>\n",
              "    <tr>\n",
              "      <th>0.50</th>\n",
              "      <td>73.180000</td>\n",
              "      <td>73.690002</td>\n",
              "      <td>72.550003</td>\n",
              "      <td>73.150002</td>\n",
              "    </tr>\n",
              "    <tr>\n",
              "      <th>0.75</th>\n",
              "      <td>76.560001</td>\n",
              "      <td>76.954998</td>\n",
              "      <td>75.959999</td>\n",
              "      <td>76.510002</td>\n",
              "    </tr>\n",
              "  </tbody>\n",
              "</table>\n",
              "</div>"
            ],
            "text/plain": [
              "           Open       High        Low      Close\n",
              "0.25  70.220001  70.829998  69.685001  70.239998\n",
              "0.50  73.180000  73.690002  72.550003  73.150002\n",
              "0.75  76.560001  76.954998  75.959999  76.510002"
            ]
          },
          "metadata": {
            "tags": []
          },
          "execution_count": 25
        }
      ]
    },
    {
      "cell_type": "markdown",
      "metadata": {
        "id": "0xsaxkWuVnSA",
        "colab_type": "text"
      },
      "source": [
        "## Aggregating data from multiple companies"
      ]
    },
    {
      "cell_type": "markdown",
      "metadata": {
        "collapsed": true,
        "id": "S7TUjU14VnSB",
        "colab_type": "text"
      },
      "source": [
        "So far, we've only been looking at data from one of our five companies. Let's go ahead and combine all five CSV files to analyze the five companies together. This will also reduce the amount of programming work required since the code will be shared across the five companies.\n",
        "\n",
        "One way to accomplish this aggregation task is to use the [pd.concat()](https://pandas.pydata.org/pandas-docs/stable/reference/api/pandas.concat.html) method from ```pandas```. An input into this method may be a list of DataFrames that you'd like to concatenate. We will use a `for` loop to loop over each stock symbol, load the corresponding CSV file, and then append the result to a list which is later aggregated using ```pd.concat()```. Let's take a look at how this is done."
      ]
    },
    {
      "cell_type": "code",
      "metadata": {
        "id": "JtxiK2X7VnSB",
        "colab_type": "code",
        "colab": {
          "base_uri": "https://localhost:8080/",
          "height": 442
        },
        "outputId": "097e5bcf-ab86-4937-d612-b939d09f6544"
      },
      "source": [
        "# Load five  files into one dataframe\n",
        "print(\"Defining stock symbols\")\n",
        "symbol_data_to_load = [\"D\", \"EXC\", \"NEE\", \"SO\", \"DUK\"]\n",
        "list_of_df = []\n",
        "\n",
        "# Loop over all symbols\n",
        "print(\" --- Start loop over symbols --- \")\n",
        "for symbol in symbol_data_to_load:\n",
        "    print(\"Processing Symbol: \" + symbol)\n",
        "    #temp_df = pd.read_csv(\"data/\" + symbol + \".csv\")\n",
        "    temp_df = pd.read_csv(symbol+\".csv\")\n",
        "    temp_df[\"Volume_Millions\"] = temp_df[\"Volume\"] / 1000000.0\n",
        "\n",
        "    # Add new column with symbol name to distinguish in final dataframe\n",
        "    temp_df[\"Symbol\"] = symbol\n",
        "    list_of_df.append(temp_df)\n",
        "\n",
        "# used a line break at the end of this string for aesthetics\n",
        "print(\" --- Complete loop over symbols --- \\n\")\n",
        "\n",
        "# Combine into a single DataFrame by using concat\n",
        "print(\"Aggregating Data\")\n",
        "agg_df = pd.concat(list_of_df, axis=0)\n",
        "\n",
        "# Add salient statistics for this return and volatility analysis\n",
        "print(\"Calculating Salient Features\")\n",
        "agg_df[\"VolStat\"] = (agg_df[\"High\"] - agg_df[\"Low\"]) / agg_df[\"Open\"]\n",
        "agg_df[\"Return\"] = (agg_df[\"Close\"] / agg_df[\"Open\"]) - 1.0\n",
        "\n",
        "print(\"agg_df DataFrame shape (rows, columns): \")\n",
        "print(agg_df.shape)\n",
        "\n",
        "print(\"Head of agg_df DataFrame: \")\n",
        "agg_df.head()"
      ],
      "execution_count": 4,
      "outputs": [
        {
          "output_type": "stream",
          "text": [
            "Defining stock symbols\n",
            " --- Start loop over symbols --- \n",
            "Processing Symbol: D\n",
            "Processing Symbol: EXC\n",
            "Processing Symbol: NEE\n",
            "Processing Symbol: SO\n",
            "Processing Symbol: DUK\n",
            " --- Complete loop over symbols --- \n",
            "\n",
            "Aggregating Data\n",
            "Calculating Salient Features\n",
            "agg_df DataFrame shape (rows, columns): \n",
            "(6295, 11)\n",
            "Head of agg_df DataFrame: \n"
          ],
          "name": "stdout"
        },
        {
          "output_type": "execute_result",
          "data": {
            "text/html": [
              "<div>\n",
              "<style scoped>\n",
              "    .dataframe tbody tr th:only-of-type {\n",
              "        vertical-align: middle;\n",
              "    }\n",
              "\n",
              "    .dataframe tbody tr th {\n",
              "        vertical-align: top;\n",
              "    }\n",
              "\n",
              "    .dataframe thead th {\n",
              "        text-align: right;\n",
              "    }\n",
              "</style>\n",
              "<table border=\"1\" class=\"dataframe\">\n",
              "  <thead>\n",
              "    <tr style=\"text-align: right;\">\n",
              "      <th></th>\n",
              "      <th>Date</th>\n",
              "      <th>Open</th>\n",
              "      <th>High</th>\n",
              "      <th>Low</th>\n",
              "      <th>Close</th>\n",
              "      <th>Adj Close</th>\n",
              "      <th>Volume</th>\n",
              "      <th>Volume_Millions</th>\n",
              "      <th>Symbol</th>\n",
              "      <th>VolStat</th>\n",
              "      <th>Return</th>\n",
              "    </tr>\n",
              "  </thead>\n",
              "  <tbody>\n",
              "    <tr>\n",
              "      <th>0</th>\n",
              "      <td>2014-07-28</td>\n",
              "      <td>69.750000</td>\n",
              "      <td>71.059998</td>\n",
              "      <td>69.750000</td>\n",
              "      <td>70.879997</td>\n",
              "      <td>57.963978</td>\n",
              "      <td>1806400</td>\n",
              "      <td>1.8064</td>\n",
              "      <td>D</td>\n",
              "      <td>0.018781</td>\n",
              "      <td>0.016201</td>\n",
              "    </tr>\n",
              "    <tr>\n",
              "      <th>1</th>\n",
              "      <td>2014-07-29</td>\n",
              "      <td>70.669998</td>\n",
              "      <td>70.980003</td>\n",
              "      <td>69.930000</td>\n",
              "      <td>69.930000</td>\n",
              "      <td>57.187099</td>\n",
              "      <td>2231100</td>\n",
              "      <td>2.2311</td>\n",
              "      <td>D</td>\n",
              "      <td>0.014858</td>\n",
              "      <td>-0.010471</td>\n",
              "    </tr>\n",
              "    <tr>\n",
              "      <th>2</th>\n",
              "      <td>2014-07-30</td>\n",
              "      <td>70.000000</td>\n",
              "      <td>70.660004</td>\n",
              "      <td>68.400002</td>\n",
              "      <td>68.970001</td>\n",
              "      <td>56.402020</td>\n",
              "      <td>2588900</td>\n",
              "      <td>2.5889</td>\n",
              "      <td>D</td>\n",
              "      <td>0.032286</td>\n",
              "      <td>-0.014714</td>\n",
              "    </tr>\n",
              "    <tr>\n",
              "      <th>3</th>\n",
              "      <td>2014-07-31</td>\n",
              "      <td>68.629997</td>\n",
              "      <td>68.849998</td>\n",
              "      <td>67.580002</td>\n",
              "      <td>67.639999</td>\n",
              "      <td>55.314388</td>\n",
              "      <td>3266900</td>\n",
              "      <td>3.2669</td>\n",
              "      <td>D</td>\n",
              "      <td>0.018505</td>\n",
              "      <td>-0.014425</td>\n",
              "    </tr>\n",
              "    <tr>\n",
              "      <th>4</th>\n",
              "      <td>2014-08-01</td>\n",
              "      <td>67.330002</td>\n",
              "      <td>68.410004</td>\n",
              "      <td>67.220001</td>\n",
              "      <td>67.589996</td>\n",
              "      <td>55.273487</td>\n",
              "      <td>2601800</td>\n",
              "      <td>2.6018</td>\n",
              "      <td>D</td>\n",
              "      <td>0.017674</td>\n",
              "      <td>0.003861</td>\n",
              "    </tr>\n",
              "  </tbody>\n",
              "</table>\n",
              "</div>"
            ],
            "text/plain": [
              "         Date       Open       High  ...  Symbol   VolStat    Return\n",
              "0  2014-07-28  69.750000  71.059998  ...       D  0.018781  0.016201\n",
              "1  2014-07-29  70.669998  70.980003  ...       D  0.014858 -0.010471\n",
              "2  2014-07-30  70.000000  70.660004  ...       D  0.032286 -0.014714\n",
              "3  2014-07-31  68.629997  68.849998  ...       D  0.018505 -0.014425\n",
              "4  2014-08-01  67.330002  68.410004  ...       D  0.017674  0.003861\n",
              "\n",
              "[5 rows x 11 columns]"
            ]
          },
          "metadata": {
            "tags": []
          },
          "execution_count": 4
        }
      ]
    },
    {
      "cell_type": "markdown",
      "metadata": {
        "id": "Sje6sjn1VnSD",
        "colab_type": "text"
      },
      "source": [
        "After the `for` loop, we've aggregated and added the relevant features we identified in the previous section. We then printed the head of the aggregated DataFrame to have a peek at the format of the data, and we've also printed the shape of the DataFrame. This is to sanity check that our final DataFrame is roughly what we expect. Notice the aggregated DataFrame has the same number of columns as the original single stock (D) data, however the number of rows have increased five-fold. This makes sense, because each additional symbol contains 1259 data entries, so five symbols leads to a total of ```1259*5 = 6295``` rows. So, this passes our sanity check."
      ]
    },
    {
      "cell_type": "markdown",
      "metadata": {
        "id": "F6NojEqGVnSE",
        "colab_type": "text"
      },
      "source": [
        "Now, if we want to reverse this process and extract the data relevant to a single stock symbol from the aggregated DataFrame ```agg_df```, we can do so using the ```==``` operator, which returns True when two objects contain the same value, and False otherwise:"
      ]
    },
    {
      "cell_type": "code",
      "metadata": {
        "id": "kX8pjCgdVnSE",
        "colab_type": "code",
        "colab": {
          "base_uri": "https://localhost:8080/",
          "height": 204
        },
        "outputId": "7957e6af-c8df-4141-b11e-2abd3db10b63"
      },
      "source": [
        "symbol_DUK_df = agg_df[agg_df[\"Symbol\"] == \"DUK\"]\n",
        "symbol_DUK_df.head()"
      ],
      "execution_count": 28,
      "outputs": [
        {
          "output_type": "execute_result",
          "data": {
            "text/html": [
              "<div>\n",
              "<style scoped>\n",
              "    .dataframe tbody tr th:only-of-type {\n",
              "        vertical-align: middle;\n",
              "    }\n",
              "\n",
              "    .dataframe tbody tr th {\n",
              "        vertical-align: top;\n",
              "    }\n",
              "\n",
              "    .dataframe thead th {\n",
              "        text-align: right;\n",
              "    }\n",
              "</style>\n",
              "<table border=\"1\" class=\"dataframe\">\n",
              "  <thead>\n",
              "    <tr style=\"text-align: right;\">\n",
              "      <th></th>\n",
              "      <th>Date</th>\n",
              "      <th>Open</th>\n",
              "      <th>High</th>\n",
              "      <th>Low</th>\n",
              "      <th>Close</th>\n",
              "      <th>Adj Close</th>\n",
              "      <th>Volume</th>\n",
              "      <th>Volume_Millions</th>\n",
              "      <th>Symbol</th>\n",
              "      <th>VolStat</th>\n",
              "      <th>Return</th>\n",
              "    </tr>\n",
              "  </thead>\n",
              "  <tbody>\n",
              "    <tr>\n",
              "      <th>0</th>\n",
              "      <td>2014-07-28</td>\n",
              "      <td>73.309998</td>\n",
              "      <td>74.480003</td>\n",
              "      <td>73.230003</td>\n",
              "      <td>74.389999</td>\n",
              "      <td>59.266285</td>\n",
              "      <td>3281100</td>\n",
              "      <td>3.2811</td>\n",
              "      <td>DUK</td>\n",
              "      <td>0.017051</td>\n",
              "      <td>0.014732</td>\n",
              "    </tr>\n",
              "    <tr>\n",
              "      <th>1</th>\n",
              "      <td>2014-07-29</td>\n",
              "      <td>74.400002</td>\n",
              "      <td>74.480003</td>\n",
              "      <td>73.760002</td>\n",
              "      <td>73.980003</td>\n",
              "      <td>58.939648</td>\n",
              "      <td>2236300</td>\n",
              "      <td>2.2363</td>\n",
              "      <td>DUK</td>\n",
              "      <td>0.009677</td>\n",
              "      <td>-0.005645</td>\n",
              "    </tr>\n",
              "    <tr>\n",
              "      <th>2</th>\n",
              "      <td>2014-07-30</td>\n",
              "      <td>74.029999</td>\n",
              "      <td>74.199997</td>\n",
              "      <td>72.580002</td>\n",
              "      <td>73.050003</td>\n",
              "      <td>58.198696</td>\n",
              "      <td>2782200</td>\n",
              "      <td>2.7822</td>\n",
              "      <td>DUK</td>\n",
              "      <td>0.021883</td>\n",
              "      <td>-0.013238</td>\n",
              "    </tr>\n",
              "    <tr>\n",
              "      <th>3</th>\n",
              "      <td>2014-07-31</td>\n",
              "      <td>72.610001</td>\n",
              "      <td>73.099998</td>\n",
              "      <td>72.059998</td>\n",
              "      <td>72.129997</td>\n",
              "      <td>57.465740</td>\n",
              "      <td>3249000</td>\n",
              "      <td>3.2490</td>\n",
              "      <td>DUK</td>\n",
              "      <td>0.014323</td>\n",
              "      <td>-0.006611</td>\n",
              "    </tr>\n",
              "    <tr>\n",
              "      <th>4</th>\n",
              "      <td>2014-08-01</td>\n",
              "      <td>72.239998</td>\n",
              "      <td>73.370003</td>\n",
              "      <td>72.150002</td>\n",
              "      <td>72.940002</td>\n",
              "      <td>58.111061</td>\n",
              "      <td>3960200</td>\n",
              "      <td>3.9602</td>\n",
              "      <td>DUK</td>\n",
              "      <td>0.016888</td>\n",
              "      <td>0.009690</td>\n",
              "    </tr>\n",
              "  </tbody>\n",
              "</table>\n",
              "</div>"
            ],
            "text/plain": [
              "         Date       Open       High  ...  Symbol   VolStat    Return\n",
              "0  2014-07-28  73.309998  74.480003  ...     DUK  0.017051  0.014732\n",
              "1  2014-07-29  74.400002  74.480003  ...     DUK  0.009677 -0.005645\n",
              "2  2014-07-30  74.029999  74.199997  ...     DUK  0.021883 -0.013238\n",
              "3  2014-07-31  72.610001  73.099998  ...     DUK  0.014323 -0.006611\n",
              "4  2014-08-01  72.239998  73.370003  ...     DUK  0.016888  0.009690\n",
              "\n",
              "[5 rows x 11 columns]"
            ]
          },
          "metadata": {
            "tags": []
          },
          "execution_count": 28
        }
      ]
    },
    {
      "cell_type": "markdown",
      "metadata": {
        "id": "T6QePIOXVnSH",
        "colab_type": "text"
      },
      "source": [
        "Looking at the code block above, we've filtered out the rows that correspond to each symbol. Namely,\n",
        "\n",
        "```python\n",
        "agg_df['Symbol'] == 'DUK'\n",
        "```\n",
        "returns a boolean series of the same number of rows of ```agg_df```, where each value is True or False depending on whether a specific row's ```Symbol``` value is equal to ```'DUK'```.\n",
        "\n",
        "This row extraction technique will be useful to us later in this case when we perform analyses on each individual stock symbol."
      ]
    },
    {
      "cell_type": "markdown",
      "metadata": {
        "id": "W9CSOhrsVnSH",
        "colab_type": "text"
      },
      "source": [
        "### Exercise 2:\n",
        "\n",
        "If we added the number of rows together from the five DataFrames, ```D_df```,```NEE_df```,```EXC_df```,```SO_df```, and ```DUK_df```, we'd arrive at the same number of rows as ```agg_df```: 6295 rows. If we instead used the ```!=``` operator in the five lines where we filter out each symbol, how many rows would we have if we sum all the rows in the five new DataFrames?\n",
        "\n",
        "(a) 31475\n",
        "\n",
        "(b) 12590\n",
        "\n",
        "(c) 25180\n",
        "\n",
        "(d) 6295\n",
        "\n",
        "**Answer.** \n",
        "(c)"
      ]
    },
    {
      "cell_type": "code",
      "metadata": {
        "id": "OHhbvzGPoTQR",
        "colab_type": "code",
        "colab": {
          "base_uri": "https://localhost:8080/",
          "height": 34
        },
        "outputId": "699b8712-4c03-4fd1-d6c1-f58d40bfb474"
      },
      "source": [
        "D_dif = agg_df[agg_df[\"Symbol\"]!=\"D\"]\n",
        "DUK_dif = agg_df[agg_df[\"Symbol\"]!=\"DUK\"]\n",
        "EXC_dif = agg_df[agg_df[\"Symbol\"]!=\"EXC\"]\n",
        "NEE_dif = agg_df[agg_df[\"Symbol\"]!=\"NEE\"]\n",
        "SO_dif = agg_df[agg_df[\"Symbol\"]!=\"SO\"]\n",
        "D_dif.shape[0]+DUK_dif.shape[0]+EXC_dif.shape[0]+NEE_dif.shape[0]+SO_dif.shape[0]"
      ],
      "execution_count": 32,
      "outputs": [
        {
          "output_type": "execute_result",
          "data": {
            "text/plain": [
              "25180"
            ]
          },
          "metadata": {
            "tags": []
          },
          "execution_count": 32
        }
      ]
    },
    {
      "cell_type": "markdown",
      "metadata": {
        "id": "6CF136PPVnSI",
        "colab_type": "text"
      },
      "source": [
        "### Exercise 3: \n",
        "\n",
        "Write code to write a `for` loop to loop through each of the five symbols, extract only the rows corresponding to each symbol, and calculate and print the average ```VolStat``` value for each of the five symbols."
      ]
    },
    {
      "cell_type": "markdown",
      "metadata": {
        "id": "C5v_dqChVnSI",
        "colab_type": "text"
      },
      "source": [
        "**Answer.**"
      ]
    },
    {
      "cell_type": "code",
      "metadata": {
        "id": "trtTDP3krRFA",
        "colab_type": "code",
        "colab": {
          "base_uri": "https://localhost:8080/",
          "height": 34
        },
        "outputId": "255097fc-daba-4587-d4f4-4c7def4e424e"
      },
      "source": [
        "list_of_symbols = [\"D\", \"DUK\", \"EXC\", \"NEE\", \"SO\"]\n",
        "mean_symbols = {}\n",
        "for i in list_of_symbols:\n",
        "  mean_symbols[i] = round(agg_df[agg_df[\"Symbol\"] == i][\"VolStat\"].mean(),4)\n",
        "mean_symbols"
      ],
      "execution_count": 5,
      "outputs": [
        {
          "output_type": "execute_result",
          "data": {
            "text/plain": [
              "{'D': 0.0148, 'DUK': 0.0145, 'EXC': 0.0177, 'NEE': 0.0149, 'SO': 0.0141}"
            ]
          },
          "metadata": {
            "tags": []
          },
          "execution_count": 5
        }
      ]
    },
    {
      "cell_type": "markdown",
      "metadata": {
        "id": "HPmIgeaSVnSJ",
        "colab_type": "text"
      },
      "source": [
        "## Analyzing each stock's volatility levels"
      ]
    },
    {
      "cell_type": "markdown",
      "metadata": {
        "collapsed": true,
        "id": "7LuM55COVnSJ",
        "colab_type": "text"
      },
      "source": [
        "```pandas``` offers the ability to group related rows of DataFrames according to the values of other rows. This useful feature is accomplished using the [groupby()](https://pandas.pydata.org/pandas-docs/stable/reference/api/pandas.DataFrame.groupby.html) method.  Let's take a look and see how this can be used to group rows so that each group corresponds to a single stock symbol:"
      ]
    },
    {
      "cell_type": "code",
      "metadata": {
        "id": "9O7Znv0gVnSK",
        "colab_type": "code",
        "colab": {
          "base_uri": "https://localhost:8080/",
          "height": 34
        },
        "outputId": "6ecbfa46-cb19-4ae2-838b-38037d1f5a88"
      },
      "source": [
        "# Use the groupby() method, notice a DataFrameGroupBy object is returned\n",
        "agg_df.groupby('Symbol')"
      ],
      "execution_count": 36,
      "outputs": [
        {
          "output_type": "execute_result",
          "data": {
            "text/plain": [
              "<pandas.core.groupby.generic.DataFrameGroupBy object at 0x7fc9e75b27b8>"
            ]
          },
          "metadata": {
            "tags": []
          },
          "execution_count": 36
        }
      ]
    },
    {
      "cell_type": "markdown",
      "metadata": {
        "collapsed": true,
        "id": "AVLkFcwgVnSP",
        "colab_type": "text"
      },
      "source": [
        "Here, the ```DataFrameGroupBy``` object can be most readily thought of as containing a DataFrame object for every group (in this case, a DataFrame object for each symbol). Specifically, each item of the object is a tuple, containing the group identifier (in this case the Symbol), and the corresponding rows of the DataFrame that have that Symbol).\n",
        "\n",
        "Fortunately, ```pandas``` allows you to iterate over the `groupby()` object to see what's inside:"
      ]
    },
    {
      "cell_type": "code",
      "metadata": {
        "scrolled": true,
        "id": "mMTqeye0VnSQ",
        "colab_type": "code",
        "colab": {
          "base_uri": "https://localhost:8080/",
          "height": 1000
        },
        "outputId": "d8b651cd-20a4-4425-b43d-19bb50f0b0d5"
      },
      "source": [
        "grp_obj = agg_df.groupby(\"Symbol\")  # Group data in agg_df by Symbol\n",
        "\n",
        "# Loop through groups\n",
        "for item in grp_obj:\n",
        "    print(\" ------ Loop Begins ------ \")\n",
        "    print(type(item))  # Showing type of the item in grp_obj\n",
        "    print(item[0])  # Symbol\n",
        "    print(item[1].head())  # DataFrame with data for the Symbol\n",
        "    print(\" ------ Loop Ends ------ \")"
      ],
      "execution_count": 37,
      "outputs": [
        {
          "output_type": "stream",
          "text": [
            " ------ Loop Begins ------ \n",
            "<class 'tuple'>\n",
            "D\n",
            "         Date       Open       High  ...  Symbol   VolStat    Return\n",
            "0  2014-07-28  69.750000  71.059998  ...       D  0.018781  0.016201\n",
            "1  2014-07-29  70.669998  70.980003  ...       D  0.014858 -0.010471\n",
            "2  2014-07-30  70.000000  70.660004  ...       D  0.032286 -0.014714\n",
            "3  2014-07-31  68.629997  68.849998  ...       D  0.018505 -0.014425\n",
            "4  2014-08-01  67.330002  68.410004  ...       D  0.017674  0.003861\n",
            "\n",
            "[5 rows x 11 columns]\n",
            " ------ Loop Ends ------ \n",
            " ------ Loop Begins ------ \n",
            "<class 'tuple'>\n",
            "DUK\n",
            "         Date       Open       High  ...  Symbol   VolStat    Return\n",
            "0  2014-07-28  73.309998  74.480003  ...     DUK  0.017051  0.014732\n",
            "1  2014-07-29  74.400002  74.480003  ...     DUK  0.009677 -0.005645\n",
            "2  2014-07-30  74.029999  74.199997  ...     DUK  0.021883 -0.013238\n",
            "3  2014-07-31  72.610001  73.099998  ...     DUK  0.014323 -0.006611\n",
            "4  2014-08-01  72.239998  73.370003  ...     DUK  0.016888  0.009690\n",
            "\n",
            "[5 rows x 11 columns]\n",
            " ------ Loop Ends ------ \n",
            " ------ Loop Begins ------ \n",
            "<class 'tuple'>\n",
            "EXC\n",
            "         Date       Open       High  ...  Symbol   VolStat    Return\n",
            "0  2014-07-28  31.410000  32.130001  ...     EXC  0.023878  0.017192\n",
            "1  2014-07-29  31.940001  32.049999  ...     EXC  0.019411 -0.014715\n",
            "2  2014-07-30  31.629999  31.660000  ...     EXC  0.025609 -0.019602\n",
            "3  2014-07-31  30.930000  31.490000  ...     EXC  0.022308  0.004850\n",
            "4  2014-08-01  31.139999  32.080002  ...     EXC  0.031471  0.012845\n",
            "\n",
            "[5 rows x 11 columns]\n",
            " ------ Loop Ends ------ \n",
            " ------ Loop Begins ------ \n",
            "<class 'tuple'>\n",
            "NEE\n",
            "         Date       Open       High  ...  Symbol   VolStat    Return\n",
            "0  2014-07-28  98.470001  99.760002  ...     NEE  0.016858  0.011272\n",
            "1  2014-07-29  99.029999  99.389999  ...     NEE  0.021105 -0.006362\n",
            "2  2014-07-30  98.160004  98.500000  ...     NEE  0.027914 -0.018541\n",
            "3  2014-07-31  95.639999  95.980003  ...     NEE  0.022794 -0.018298\n",
            "4  2014-08-01  93.500000  94.919998  ...     NEE  0.017540  0.003422\n",
            "\n",
            "[5 rows x 11 columns]\n",
            " ------ Loop Ends ------ \n",
            " ------ Loop Begins ------ \n",
            "<class 'tuple'>\n",
            "SO\n",
            "         Date       Open       High  ...  Symbol   VolStat    Return\n",
            "0  2014-07-28  44.619999  45.430000  ...      SO  0.018153  0.016585\n",
            "1  2014-07-29  45.470001  45.470001  ...      SO  0.017594 -0.013415\n",
            "2  2014-07-30  45.000000  45.000000  ...      SO  0.022000 -0.013778\n",
            "3  2014-07-31  43.889999  43.889999  ...      SO  0.015265 -0.013670\n",
            "4  2014-08-01  43.340000  43.830002  ...      SO  0.013383 -0.000461\n",
            "\n",
            "[5 rows x 11 columns]\n",
            " ------ Loop Ends ------ \n"
          ],
          "name": "stdout"
        }
      ]
    },
    {
      "cell_type": "markdown",
      "metadata": {
        "id": "o0-8ulEJVnSS",
        "colab_type": "text"
      },
      "source": [
        "Let's combine the ```pd.groupby()``` method with the ```describe()``` method and apply it to each symbol to analyze the distribution of volatility related features for each symbol."
      ]
    },
    {
      "cell_type": "code",
      "metadata": {
        "scrolled": true,
        "id": "Fai2qYqoVnSS",
        "colab_type": "code",
        "colab": {
          "base_uri": "https://localhost:8080/",
          "height": 867
        },
        "outputId": "8a61e18b-3b4b-4278-a5f4-ecbcfd6194b5"
      },
      "source": [
        "grp_obj = agg_df.groupby(\"Symbol\")  # Group data in agg_df by Symbol\n",
        "\n",
        "# Loop through groups\n",
        "for item in grp_obj:\n",
        "    print(\"------Symbol: \", item[0])\n",
        "    grp_df = item[1]\n",
        "    relevant_df = grp_df[[\"VolStat\"]]\n",
        "    print(relevant_df.describe())"
      ],
      "execution_count": 38,
      "outputs": [
        {
          "output_type": "stream",
          "text": [
            "------Symbol:  D\n",
            "           VolStat\n",
            "count  1259.000000\n",
            "mean      0.014836\n",
            "std       0.006548\n",
            "min       0.003640\n",
            "25%       0.010246\n",
            "50%       0.013528\n",
            "75%       0.017920\n",
            "max       0.062350\n",
            "------Symbol:  DUK\n",
            "           VolStat\n",
            "count  1259.000000\n",
            "mean      0.014534\n",
            "std       0.007047\n",
            "min       0.003548\n",
            "25%       0.010075\n",
            "50%       0.012922\n",
            "75%       0.017653\n",
            "max       0.117492\n",
            "------Symbol:  EXC\n",
            "           VolStat\n",
            "count  1259.000000\n",
            "mean      0.017722\n",
            "std       0.008129\n",
            "min       0.005230\n",
            "25%       0.011868\n",
            "50%       0.015931\n",
            "75%       0.021752\n",
            "max       0.093156\n",
            "------Symbol:  NEE\n",
            "           VolStat\n",
            "count  1259.000000\n",
            "mean      0.014881\n",
            "std       0.006544\n",
            "min       0.004454\n",
            "25%       0.010309\n",
            "50%       0.013439\n",
            "75%       0.017700\n",
            "max       0.048495\n",
            "------Symbol:  SO\n",
            "           VolStat\n",
            "count  1259.000000\n",
            "mean      0.014065\n",
            "std       0.006109\n",
            "min       0.003960\n",
            "25%       0.009786\n",
            "50%       0.012858\n",
            "75%       0.016865\n",
            "max       0.051847\n"
          ],
          "name": "stdout"
        }
      ]
    },
    {
      "cell_type": "markdown",
      "metadata": {
        "id": "aqMzDWXyVnSV",
        "colab_type": "text"
      },
      "source": [
        "One immediate observation of note is that the volatility level on any given day can vary widely. This is evident from the wide spread between the minimum and maximum ```VolStat``` levels seen using the ```describe()``` method. For example, stock symbol D has a minimum ```VolStat``` value of 0.003640, while its maximum ```VolStat``` value is 0.062350. That's more than a 10x increase in the value of ```VolStat```!\n",
        "\n",
        "While this is great to see, there is a more powerful way to display this data in `pandas`. We can call the ```describe()``` method directly on the ```DataFrameGroupBy``` object. This one line allows you to avoid having to write a `for` loop every time you'd like to summarize data:"
      ]
    },
    {
      "cell_type": "code",
      "metadata": {
        "scrolled": true,
        "id": "fSS7hdNFVnSW",
        "colab_type": "code",
        "colab": {
          "base_uri": "https://localhost:8080/",
          "height": 266
        },
        "outputId": "a498d7f6-3dd2-4a78-c775-52e015321ccc"
      },
      "source": [
        "# VolStat\n",
        "agg_df[[\"Symbol\", \"VolStat\"]].groupby(\"Symbol\").describe()"
      ],
      "execution_count": 39,
      "outputs": [
        {
          "output_type": "execute_result",
          "data": {
            "text/html": [
              "<div>\n",
              "<style scoped>\n",
              "    .dataframe tbody tr th:only-of-type {\n",
              "        vertical-align: middle;\n",
              "    }\n",
              "\n",
              "    .dataframe tbody tr th {\n",
              "        vertical-align: top;\n",
              "    }\n",
              "\n",
              "    .dataframe thead tr th {\n",
              "        text-align: left;\n",
              "    }\n",
              "\n",
              "    .dataframe thead tr:last-of-type th {\n",
              "        text-align: right;\n",
              "    }\n",
              "</style>\n",
              "<table border=\"1\" class=\"dataframe\">\n",
              "  <thead>\n",
              "    <tr>\n",
              "      <th></th>\n",
              "      <th colspan=\"8\" halign=\"left\">VolStat</th>\n",
              "    </tr>\n",
              "    <tr>\n",
              "      <th></th>\n",
              "      <th>count</th>\n",
              "      <th>mean</th>\n",
              "      <th>std</th>\n",
              "      <th>min</th>\n",
              "      <th>25%</th>\n",
              "      <th>50%</th>\n",
              "      <th>75%</th>\n",
              "      <th>max</th>\n",
              "    </tr>\n",
              "    <tr>\n",
              "      <th>Symbol</th>\n",
              "      <th></th>\n",
              "      <th></th>\n",
              "      <th></th>\n",
              "      <th></th>\n",
              "      <th></th>\n",
              "      <th></th>\n",
              "      <th></th>\n",
              "      <th></th>\n",
              "    </tr>\n",
              "  </thead>\n",
              "  <tbody>\n",
              "    <tr>\n",
              "      <th>D</th>\n",
              "      <td>1259.0</td>\n",
              "      <td>0.014836</td>\n",
              "      <td>0.006548</td>\n",
              "      <td>0.003640</td>\n",
              "      <td>0.010246</td>\n",
              "      <td>0.013528</td>\n",
              "      <td>0.017920</td>\n",
              "      <td>0.062350</td>\n",
              "    </tr>\n",
              "    <tr>\n",
              "      <th>DUK</th>\n",
              "      <td>1259.0</td>\n",
              "      <td>0.014534</td>\n",
              "      <td>0.007047</td>\n",
              "      <td>0.003548</td>\n",
              "      <td>0.010075</td>\n",
              "      <td>0.012922</td>\n",
              "      <td>0.017653</td>\n",
              "      <td>0.117492</td>\n",
              "    </tr>\n",
              "    <tr>\n",
              "      <th>EXC</th>\n",
              "      <td>1259.0</td>\n",
              "      <td>0.017722</td>\n",
              "      <td>0.008129</td>\n",
              "      <td>0.005230</td>\n",
              "      <td>0.011868</td>\n",
              "      <td>0.015931</td>\n",
              "      <td>0.021752</td>\n",
              "      <td>0.093156</td>\n",
              "    </tr>\n",
              "    <tr>\n",
              "      <th>NEE</th>\n",
              "      <td>1259.0</td>\n",
              "      <td>0.014881</td>\n",
              "      <td>0.006544</td>\n",
              "      <td>0.004454</td>\n",
              "      <td>0.010309</td>\n",
              "      <td>0.013439</td>\n",
              "      <td>0.017700</td>\n",
              "      <td>0.048495</td>\n",
              "    </tr>\n",
              "    <tr>\n",
              "      <th>SO</th>\n",
              "      <td>1259.0</td>\n",
              "      <td>0.014065</td>\n",
              "      <td>0.006109</td>\n",
              "      <td>0.003960</td>\n",
              "      <td>0.009786</td>\n",
              "      <td>0.012858</td>\n",
              "      <td>0.016865</td>\n",
              "      <td>0.051847</td>\n",
              "    </tr>\n",
              "  </tbody>\n",
              "</table>\n",
              "</div>"
            ],
            "text/plain": [
              "       VolStat                      ...                              \n",
              "         count      mean       std  ...       50%       75%       max\n",
              "Symbol                              ...                              \n",
              "D       1259.0  0.014836  0.006548  ...  0.013528  0.017920  0.062350\n",
              "DUK     1259.0  0.014534  0.007047  ...  0.012922  0.017653  0.117492\n",
              "EXC     1259.0  0.017722  0.008129  ...  0.015931  0.021752  0.093156\n",
              "NEE     1259.0  0.014881  0.006544  ...  0.013439  0.017700  0.048495\n",
              "SO      1259.0  0.014065  0.006109  ...  0.012858  0.016865  0.051847\n",
              "\n",
              "[5 rows x 8 columns]"
            ]
          },
          "metadata": {
            "tags": []
          },
          "execution_count": 39
        }
      ]
    },
    {
      "cell_type": "markdown",
      "metadata": {
        "id": "bBGQqipBVnSa",
        "colab_type": "text"
      },
      "source": [
        "This data is identical to the data previously outputted using the `for` loop approach. The difference is that utilizing the features of the ```DataFrameGroupBy``` object allows for easy coding, fast results, and a clean output. This illustrates the power of using the ```pd.groupby()``` method: generating statistics for groups of interest in your data is straightforward and efficient to code.\n",
        "\n",
        "You'll notice this pattern a lot as you gain more familiarity with Python and data analysis. There are many ways to solve a problem, but often one way is substantially more efficient, both in terms of run time and in terms of lines of code."
      ]
    },
    {
      "cell_type": "markdown",
      "metadata": {
        "id": "QXVnIjPaVnSa",
        "colab_type": "text"
      },
      "source": [
        "### Exercise 4:\n",
        "\n",
        "What are some insights you can draw from the ```VolStat``` summary statistics in terms of volatility levels?\n",
        "\n",
        "**Answer.**\n",
        "\n"
      ]
    },
    {
      "cell_type": "markdown",
      "metadata": {
        "id": "OFl0sUg0VnSb",
        "colab_type": "text"
      },
      "source": [
        "### Exercise 5:\n",
        "\n",
        "Using ```agg_df``` and a `for` loop, write a script to determine the mean value of ```VolStat``` for each symbol by year."
      ]
    },
    {
      "cell_type": "markdown",
      "metadata": {
        "id": "J7Ltg8-gVnSb",
        "colab_type": "text"
      },
      "source": [
        "**Answer.**"
      ]
    },
    {
      "cell_type": "code",
      "metadata": {
        "id": "uxXHSFKJw8Xy",
        "colab_type": "code",
        "colab": {
          "base_uri": "https://localhost:8080/",
          "height": 629
        },
        "outputId": "c19842cb-3fa7-4eb1-c6d7-76864897a91e"
      },
      "source": [
        "list_of_symbols = [\"D\", \"DUK\", \"EXC\", \"NEE\", \"SO\"]\n",
        "agg_df[\"Date\" ] =pd.to_datetime(agg_df[\"Date\"])\n",
        "agg_df[\"Year\"] = agg_df[\"Date\"].map(lambda x: x.strftime('%Y'))\n",
        "mean_year = {}\n",
        "for i in list_of_symbols:\n",
        "  mean_year[i]= agg_df[agg_df[\"Symbol\"] == i][[\"Year\",\"VolStat\"]].groupby(\"Year\").mean()\n",
        "mean_year"
      ],
      "execution_count": 22,
      "outputs": [
        {
          "output_type": "execute_result",
          "data": {
            "text/plain": [
              "{'D':        VolStat\n",
              " Year          \n",
              " 2014  0.016510\n",
              " 2015  0.015748\n",
              " 2016  0.015051\n",
              " 2017  0.011246\n",
              " 2018  0.016678\n",
              " 2019  0.014631, 'DUK':        VolStat\n",
              " Year          \n",
              " 2014  0.014592\n",
              " 2015  0.016215\n",
              " 2016  0.015841\n",
              " 2017  0.010032\n",
              " 2018  0.016472\n",
              " 2019  0.013723, 'EXC':        VolStat\n",
              " Year          \n",
              " 2014  0.020166\n",
              " 2015  0.021383\n",
              " 2016  0.019270\n",
              " 2017  0.013746\n",
              " 2018  0.017106\n",
              " 2019  0.014720, 'NEE':        VolStat\n",
              " Year          \n",
              " 2014  0.015843\n",
              " 2015  0.016274\n",
              " 2016  0.015805\n",
              " 2017  0.011648\n",
              " 2018  0.016043\n",
              " 2019  0.013692, 'SO':        VolStat\n",
              " Year          \n",
              " 2014  0.013988\n",
              " 2015  0.014625\n",
              " 2016  0.014233\n",
              " 2017  0.010955\n",
              " 2018  0.016859\n",
              " 2019  0.013395}"
            ]
          },
          "metadata": {
            "tags": []
          },
          "execution_count": 22
        }
      ]
    },
    {
      "cell_type": "markdown",
      "metadata": {
        "id": "xliTq8JEVnSc",
        "colab_type": "text"
      },
      "source": [
        "## Labelling data points as high or low volatility"
      ]
    },
    {
      "cell_type": "markdown",
      "metadata": {
        "id": "I99Q-_vOVnSc",
        "colab_type": "text"
      },
      "source": [
        "Now that we've determined that the volatility levels of each stock can vary widely, the next logical step is to group periods of high and low volatility so that we can then look at how volume differs between those time periods.\n",
        "\n",
        "However, we don't currently have a column that identifies when volatility is high and when it is low. Therefore, we must create a new column called ```VolLevel``` using some volatility threshold. For example, we'd like to have a new column value determined by:\n",
        "\n",
        "```\n",
        "if VolStat > threshold:\n",
        "    VolLevel = 'HIGH'\n",
        "else:\n",
        "    VolLevel = 'LOW'\n",
        "```\n",
        "\n",
        "Here we will define low volatility levels by any ```VolStat``` below the 50th percentile (i.e. below the median level of volatility for that symbol). Each percentile value must be calculated by symbol to ensure that each symbol is individually analyzed.\n",
        "\n",
        "Let's take a look how we can accomplish this task using ```groupby()``` functionality and the ```quantile()``` method, which returns the percentile for a given series of data:"
      ]
    },
    {
      "cell_type": "code",
      "metadata": {
        "id": "FDUWfehSVnSd",
        "colab_type": "code",
        "colab": {
          "base_uri": "https://localhost:8080/",
          "height": 136
        },
        "outputId": "c7040eae-31a3-443e-8f0e-b9c0dcb2a3a7"
      },
      "source": [
        "# Determine lower thresholds for volatility for each symbol\n",
        "volstat_thresholds = agg_df.groupby(\"Symbol\")[\"VolStat\"].quantile(0.5)  # 50th percentile (median)\n",
        "print(volstat_thresholds)"
      ],
      "execution_count": 23,
      "outputs": [
        {
          "output_type": "stream",
          "text": [
            "Symbol\n",
            "D      0.013528\n",
            "DUK    0.012922\n",
            "EXC    0.015931\n",
            "NEE    0.013439\n",
            "SO     0.012858\n",
            "Name: VolStat, dtype: float64\n"
          ],
          "name": "stdout"
        }
      ]
    },
    {
      "cell_type": "markdown",
      "metadata": {
        "id": "eQ5Hgvh5VnSk",
        "colab_type": "text"
      },
      "source": [
        "Since we'd like to label periods of high and low volatility by symbol, we will make use of the [np.where()](https://docs.scipy.org/doc/numpy/reference/generated/numpy.where.html) method in the ```numpy``` library. This method takes an input and checks a logical condition: if the condition is true, it will return its second argument, whereas if the condition is false, it will return its third argument. This is very similar to how Microsoft Excel's ```IFERROR()``` method works (helpful to think of it this way for those familiar with Excel). Let's loop through each symbol and label each day as either high and low volatility:"
      ]
    },
    {
      "cell_type": "code",
      "metadata": {
        "id": "UpRWRwRfVnSl",
        "colab_type": "code",
        "colab": {
          "base_uri": "https://localhost:8080/",
          "height": 170
        },
        "outputId": "fba4e3b3-3bfb-40ad-8e4c-7238e0c8eb9e"
      },
      "source": [
        "# Loop through symbols\n",
        "print(\"Defining stock symbols\")\n",
        "list_of_symbols = [\"D\", \"EXC\", \"NEE\", \"SO\", \"DUK\"]\n",
        "list_of_df = []\n",
        "\n",
        "# Loop over all symbols\n",
        "print(\" --- Loop over symbols --- \")\n",
        "for i in symbol_data_to_load:\n",
        "    print(\"Labelling Volatility regime for Symbol: \" + i)\n",
        "    temp_df = agg_df[agg_df[\"Symbol\"] == i].copy()  # make a copy of the dataframe to ensure not affecting agg_df\n",
        "    volstat_t = volstat_thresholds.loc[i]\n",
        "    temp_df[\"VolLevel\"] = np.where(temp_df[\"VolStat\"] < volstat_t, \"LOW\", \"HIGH\")  # Volatility regime label\n",
        "    list_of_df.append(temp_df)\n",
        "\n",
        "print(\" --- Completed loop over symbols --- \")\n",
        "\n",
        "print(\"Aggregating data\")\n",
        "labeled_df = pd.concat(list_of_df)"
      ],
      "execution_count": 25,
      "outputs": [
        {
          "output_type": "stream",
          "text": [
            "Defining stock symbols\n",
            " --- Loop over symbols --- \n",
            "Labelling Volatility regime for Symbol: D\n",
            "Labelling Volatility regime for Symbol: EXC\n",
            "Labelling Volatility regime for Symbol: NEE\n",
            "Labelling Volatility regime for Symbol: SO\n",
            "Labelling Volatility regime for Symbol: DUK\n",
            " --- Completed loop over symbols --- \n",
            "Aggregating data\n"
          ],
          "name": "stdout"
        }
      ]
    },
    {
      "cell_type": "code",
      "metadata": {
        "scrolled": true,
        "id": "_oCvJT2nVnSq",
        "colab_type": "code",
        "colab": {
          "base_uri": "https://localhost:8080/",
          "height": 326
        },
        "outputId": "0dfb92c6-a12d-4497-e7e4-e441c65378b8"
      },
      "source": [
        "labeled_df.head()"
      ],
      "execution_count": 26,
      "outputs": [
        {
          "output_type": "execute_result",
          "data": {
            "text/html": [
              "<div>\n",
              "<style scoped>\n",
              "    .dataframe tbody tr th:only-of-type {\n",
              "        vertical-align: middle;\n",
              "    }\n",
              "\n",
              "    .dataframe tbody tr th {\n",
              "        vertical-align: top;\n",
              "    }\n",
              "\n",
              "    .dataframe thead th {\n",
              "        text-align: right;\n",
              "    }\n",
              "</style>\n",
              "<table border=\"1\" class=\"dataframe\">\n",
              "  <thead>\n",
              "    <tr style=\"text-align: right;\">\n",
              "      <th></th>\n",
              "      <th>Date</th>\n",
              "      <th>Open</th>\n",
              "      <th>High</th>\n",
              "      <th>Low</th>\n",
              "      <th>Close</th>\n",
              "      <th>Adj Close</th>\n",
              "      <th>Volume</th>\n",
              "      <th>Volume_Millions</th>\n",
              "      <th>Symbol</th>\n",
              "      <th>VolStat</th>\n",
              "      <th>Return</th>\n",
              "      <th>Year</th>\n",
              "      <th>VolLevel</th>\n",
              "    </tr>\n",
              "  </thead>\n",
              "  <tbody>\n",
              "    <tr>\n",
              "      <th>0</th>\n",
              "      <td>2014-07-28</td>\n",
              "      <td>69.750000</td>\n",
              "      <td>71.059998</td>\n",
              "      <td>69.750000</td>\n",
              "      <td>70.879997</td>\n",
              "      <td>57.963978</td>\n",
              "      <td>1806400</td>\n",
              "      <td>1.8064</td>\n",
              "      <td>D</td>\n",
              "      <td>0.018781</td>\n",
              "      <td>0.016201</td>\n",
              "      <td>2014</td>\n",
              "      <td>HIGH</td>\n",
              "    </tr>\n",
              "    <tr>\n",
              "      <th>1</th>\n",
              "      <td>2014-07-29</td>\n",
              "      <td>70.669998</td>\n",
              "      <td>70.980003</td>\n",
              "      <td>69.930000</td>\n",
              "      <td>69.930000</td>\n",
              "      <td>57.187099</td>\n",
              "      <td>2231100</td>\n",
              "      <td>2.2311</td>\n",
              "      <td>D</td>\n",
              "      <td>0.014858</td>\n",
              "      <td>-0.010471</td>\n",
              "      <td>2014</td>\n",
              "      <td>HIGH</td>\n",
              "    </tr>\n",
              "    <tr>\n",
              "      <th>2</th>\n",
              "      <td>2014-07-30</td>\n",
              "      <td>70.000000</td>\n",
              "      <td>70.660004</td>\n",
              "      <td>68.400002</td>\n",
              "      <td>68.970001</td>\n",
              "      <td>56.402020</td>\n",
              "      <td>2588900</td>\n",
              "      <td>2.5889</td>\n",
              "      <td>D</td>\n",
              "      <td>0.032286</td>\n",
              "      <td>-0.014714</td>\n",
              "      <td>2014</td>\n",
              "      <td>HIGH</td>\n",
              "    </tr>\n",
              "    <tr>\n",
              "      <th>3</th>\n",
              "      <td>2014-07-31</td>\n",
              "      <td>68.629997</td>\n",
              "      <td>68.849998</td>\n",
              "      <td>67.580002</td>\n",
              "      <td>67.639999</td>\n",
              "      <td>55.314388</td>\n",
              "      <td>3266900</td>\n",
              "      <td>3.2669</td>\n",
              "      <td>D</td>\n",
              "      <td>0.018505</td>\n",
              "      <td>-0.014425</td>\n",
              "      <td>2014</td>\n",
              "      <td>HIGH</td>\n",
              "    </tr>\n",
              "    <tr>\n",
              "      <th>4</th>\n",
              "      <td>2014-08-01</td>\n",
              "      <td>67.330002</td>\n",
              "      <td>68.410004</td>\n",
              "      <td>67.220001</td>\n",
              "      <td>67.589996</td>\n",
              "      <td>55.273487</td>\n",
              "      <td>2601800</td>\n",
              "      <td>2.6018</td>\n",
              "      <td>D</td>\n",
              "      <td>0.017674</td>\n",
              "      <td>0.003861</td>\n",
              "      <td>2014</td>\n",
              "      <td>HIGH</td>\n",
              "    </tr>\n",
              "  </tbody>\n",
              "</table>\n",
              "</div>"
            ],
            "text/plain": [
              "        Date       Open       High  ...    Return  Year  VolLevel\n",
              "0 2014-07-28  69.750000  71.059998  ...  0.016201  2014      HIGH\n",
              "1 2014-07-29  70.669998  70.980003  ... -0.010471  2014      HIGH\n",
              "2 2014-07-30  70.000000  70.660004  ... -0.014714  2014      HIGH\n",
              "3 2014-07-31  68.629997  68.849998  ... -0.014425  2014      HIGH\n",
              "4 2014-08-01  67.330002  68.410004  ...  0.003861  2014      HIGH\n",
              "\n",
              "[5 rows x 13 columns]"
            ]
          },
          "metadata": {
            "tags": []
          },
          "execution_count": 26
        }
      ]
    },
    {
      "cell_type": "markdown",
      "metadata": {
        "id": "dmwlQkfHVnSt",
        "colab_type": "text"
      },
      "source": [
        "We've now added a ```VolLevel``` column that identifies whether each symbol is in a period of high or low volatility on any given day. Since we know that the bank will require higher trading volume in order to transact in periods of high volatility, let's now take a look at the average daily traded volume for high volatility vs. low volatility days."
      ]
    },
    {
      "cell_type": "markdown",
      "metadata": {
        "id": "CQ3DHaDlVnSt",
        "colab_type": "text"
      },
      "source": [
        "## Is daily trading volume affected by the level of volatility?"
      ]
    },
    {
      "cell_type": "markdown",
      "metadata": {
        "id": "nk2kPXZjVnSu",
        "colab_type": "text"
      },
      "source": [
        "To explore the relationship between volatility level and daily trading volume, let's group by ```VolLevel``` and take a look at the average ```Volume``` for the high and low volatility groups:"
      ]
    },
    {
      "cell_type": "code",
      "metadata": {
        "scrolled": true,
        "id": "88Z-VjZ9VnSv",
        "colab_type": "code",
        "colab": {
          "base_uri": "https://localhost:8080/",
          "height": 390
        },
        "outputId": "8699bca1-fa0f-4715-bde5-a8a92b263d65"
      },
      "source": [
        "labeled_df.groupby([\"Symbol\", \"VolLevel\"])[[\"Volume_Millions\"]].mean()"
      ],
      "execution_count": 27,
      "outputs": [
        {
          "output_type": "execute_result",
          "data": {
            "text/html": [
              "<div>\n",
              "<style scoped>\n",
              "    .dataframe tbody tr th:only-of-type {\n",
              "        vertical-align: middle;\n",
              "    }\n",
              "\n",
              "    .dataframe tbody tr th {\n",
              "        vertical-align: top;\n",
              "    }\n",
              "\n",
              "    .dataframe thead th {\n",
              "        text-align: right;\n",
              "    }\n",
              "</style>\n",
              "<table border=\"1\" class=\"dataframe\">\n",
              "  <thead>\n",
              "    <tr style=\"text-align: right;\">\n",
              "      <th></th>\n",
              "      <th></th>\n",
              "      <th>Volume_Millions</th>\n",
              "    </tr>\n",
              "    <tr>\n",
              "      <th>Symbol</th>\n",
              "      <th>VolLevel</th>\n",
              "      <th></th>\n",
              "    </tr>\n",
              "  </thead>\n",
              "  <tbody>\n",
              "    <tr>\n",
              "      <th rowspan=\"2\" valign=\"top\">D</th>\n",
              "      <th>HIGH</th>\n",
              "      <td>3.538901</td>\n",
              "    </tr>\n",
              "    <tr>\n",
              "      <th>LOW</th>\n",
              "      <td>2.636641</td>\n",
              "    </tr>\n",
              "    <tr>\n",
              "      <th rowspan=\"2\" valign=\"top\">DUK</th>\n",
              "      <th>HIGH</th>\n",
              "      <td>3.760172</td>\n",
              "    </tr>\n",
              "    <tr>\n",
              "      <th>LOW</th>\n",
              "      <td>2.825710</td>\n",
              "    </tr>\n",
              "    <tr>\n",
              "      <th rowspan=\"2\" valign=\"top\">EXC</th>\n",
              "      <th>HIGH</th>\n",
              "      <td>7.090384</td>\n",
              "    </tr>\n",
              "    <tr>\n",
              "      <th>LOW</th>\n",
              "      <td>5.031123</td>\n",
              "    </tr>\n",
              "    <tr>\n",
              "      <th rowspan=\"2\" valign=\"top\">NEE</th>\n",
              "      <th>HIGH</th>\n",
              "      <td>2.361096</td>\n",
              "    </tr>\n",
              "    <tr>\n",
              "      <th>LOW</th>\n",
              "      <td>1.707347</td>\n",
              "    </tr>\n",
              "    <tr>\n",
              "      <th rowspan=\"2\" valign=\"top\">SO</th>\n",
              "      <th>HIGH</th>\n",
              "      <td>6.148537</td>\n",
              "    </tr>\n",
              "    <tr>\n",
              "      <th>LOW</th>\n",
              "      <td>4.417179</td>\n",
              "    </tr>\n",
              "  </tbody>\n",
              "</table>\n",
              "</div>"
            ],
            "text/plain": [
              "                 Volume_Millions\n",
              "Symbol VolLevel                 \n",
              "D      HIGH             3.538901\n",
              "       LOW              2.636641\n",
              "DUK    HIGH             3.760172\n",
              "       LOW              2.825710\n",
              "EXC    HIGH             7.090384\n",
              "       LOW              5.031123\n",
              "NEE    HIGH             2.361096\n",
              "       LOW              1.707347\n",
              "SO     HIGH             6.148537\n",
              "       LOW              4.417179"
            ]
          },
          "metadata": {
            "tags": []
          },
          "execution_count": 27
        }
      ]
    },
    {
      "cell_type": "markdown",
      "metadata": {
        "id": "4WSBzD38VnSy",
        "colab_type": "text"
      },
      "source": [
        "### Exercise 6:\n",
        "\n",
        "What is an immediate trend you notice regarding the volatility regimes?\n",
        "\n",
        "**Answer.**"
      ]
    },
    {
      "cell_type": "markdown",
      "metadata": {
        "id": "Ag9e2HnjVnSy",
        "colab_type": "text"
      },
      "source": [
        "### Exercise 7: \n",
        "\n",
        "Write code to group time periods into low, medium, and high volatility regimes, where:\n",
        "\n",
        "```\n",
        "if VolStat > (75th percentile VolStat for given symbol):\n",
        "    VolLevel = 'HIGH'\n",
        "elif  VolStat > (25th percentile VolStat for given symbol):\n",
        "    VolLevel = 'MEDIUM'\n",
        "else:\n",
        "    VolLevel = 'LOW'\n",
        "```\n",
        "\n",
        "Output a ```final_df``` DataFrame output grouped by `Symbol`, showing the mean `Volume` for each `VolLevel` category."
      ]
    },
    {
      "cell_type": "markdown",
      "metadata": {
        "id": "_73XoX0yVnSz",
        "colab_type": "text"
      },
      "source": [
        "**Answer.**"
      ]
    },
    {
      "cell_type": "code",
      "metadata": {
        "id": "b8HbqGGpucxt",
        "colab_type": "code",
        "colab": {
          "base_uri": "https://localhost:8080/",
          "height": 545
        },
        "outputId": "296cfd68-9991-44d1-b7e3-915903c9ebca"
      },
      "source": [
        "volatility_regimes_25 = agg_df.groupby(\"Symbol\")[\"VolStat\"].quantile(0.25)\n",
        "volatility_regimes_75 = agg_df.groupby(\"Symbol\")[\"VolStat\"].quantile(0.75)\n",
        "list_of_symbols = [\"D\", \"DUK\", \"EXC\", \"NEE\", \"SO\"]\n",
        "list_temp = []\n",
        "for i in list_of_symbols:\n",
        "  tem_agg = agg_df[agg_df[\"Symbol\"]==i].copy()\n",
        "  tem_volatility_25 = volatility_regimes_25.loc[i]\n",
        "  tem_volatility_75 = volatility_regimes_75.loc[i]\n",
        "  tem_agg[\"VolRegimes\"] = np.where(tem_agg[\"VolStat\"]<tem_volatility_25,\"LOW\", \n",
        "                                   np.where(tem_agg[\"VolStat\"]>tem_volatility_75, \"HIGH\", \"MEDIUM\") )\n",
        "  list_temp.append(tem_agg)\n",
        "\n",
        "final_df = pd.concat(list_temp)\n",
        "final_df.groupby([\"Symbol\",\"VolRegimes\"])[[\"Volume_Millions\"]].mean()\n"
      ],
      "execution_count": 59,
      "outputs": [
        {
          "output_type": "execute_result",
          "data": {
            "text/html": [
              "<div>\n",
              "<style scoped>\n",
              "    .dataframe tbody tr th:only-of-type {\n",
              "        vertical-align: middle;\n",
              "    }\n",
              "\n",
              "    .dataframe tbody tr th {\n",
              "        vertical-align: top;\n",
              "    }\n",
              "\n",
              "    .dataframe thead th {\n",
              "        text-align: right;\n",
              "    }\n",
              "</style>\n",
              "<table border=\"1\" class=\"dataframe\">\n",
              "  <thead>\n",
              "    <tr style=\"text-align: right;\">\n",
              "      <th></th>\n",
              "      <th></th>\n",
              "      <th>Volume_Millions</th>\n",
              "    </tr>\n",
              "    <tr>\n",
              "      <th>Symbol</th>\n",
              "      <th>VolRegimes</th>\n",
              "      <th></th>\n",
              "    </tr>\n",
              "  </thead>\n",
              "  <tbody>\n",
              "    <tr>\n",
              "      <th rowspan=\"3\" valign=\"top\">D</th>\n",
              "      <th>HIGH</th>\n",
              "      <td>3.921797</td>\n",
              "    </tr>\n",
              "    <tr>\n",
              "      <th>LOW</th>\n",
              "      <td>2.456831</td>\n",
              "    </tr>\n",
              "    <tr>\n",
              "      <th>MEDIUM</th>\n",
              "      <td>2.986784</td>\n",
              "    </tr>\n",
              "    <tr>\n",
              "      <th rowspan=\"3\" valign=\"top\">DUK</th>\n",
              "      <th>HIGH</th>\n",
              "      <td>4.169937</td>\n",
              "    </tr>\n",
              "    <tr>\n",
              "      <th>LOW</th>\n",
              "      <td>2.603308</td>\n",
              "    </tr>\n",
              "    <tr>\n",
              "      <th>MEDIUM</th>\n",
              "      <td>3.199854</td>\n",
              "    </tr>\n",
              "    <tr>\n",
              "      <th rowspan=\"3\" valign=\"top\">EXC</th>\n",
              "      <th>HIGH</th>\n",
              "      <td>7.904227</td>\n",
              "    </tr>\n",
              "    <tr>\n",
              "      <th>LOW</th>\n",
              "      <td>4.671271</td>\n",
              "    </tr>\n",
              "    <tr>\n",
              "      <th>MEDIUM</th>\n",
              "      <td>5.835034</td>\n",
              "    </tr>\n",
              "    <tr>\n",
              "      <th rowspan=\"3\" valign=\"top\">NEE</th>\n",
              "      <th>HIGH</th>\n",
              "      <td>2.653587</td>\n",
              "    </tr>\n",
              "    <tr>\n",
              "      <th>LOW</th>\n",
              "      <td>1.608036</td>\n",
              "    </tr>\n",
              "    <tr>\n",
              "      <th>MEDIUM</th>\n",
              "      <td>1.937998</td>\n",
              "    </tr>\n",
              "    <tr>\n",
              "      <th rowspan=\"3\" valign=\"top\">SO</th>\n",
              "      <th>HIGH</th>\n",
              "      <td>6.781142</td>\n",
              "    </tr>\n",
              "    <tr>\n",
              "      <th>LOW</th>\n",
              "      <td>4.111777</td>\n",
              "    </tr>\n",
              "    <tr>\n",
              "      <th>MEDIUM</th>\n",
              "      <td>5.120373</td>\n",
              "    </tr>\n",
              "  </tbody>\n",
              "</table>\n",
              "</div>"
            ],
            "text/plain": [
              "                   Volume_Millions\n",
              "Symbol VolRegimes                 \n",
              "D      HIGH               3.921797\n",
              "       LOW                2.456831\n",
              "       MEDIUM             2.986784\n",
              "DUK    HIGH               4.169937\n",
              "       LOW                2.603308\n",
              "       MEDIUM             3.199854\n",
              "EXC    HIGH               7.904227\n",
              "       LOW                4.671271\n",
              "       MEDIUM             5.835034\n",
              "NEE    HIGH               2.653587\n",
              "       LOW                1.608036\n",
              "       MEDIUM             1.937998\n",
              "SO     HIGH               6.781142\n",
              "       LOW                4.111777\n",
              "       MEDIUM             5.120373"
            ]
          },
          "metadata": {
            "tags": []
          },
          "execution_count": 59
        }
      ]
    },
    {
      "cell_type": "markdown",
      "metadata": {
        "id": "3LCOTmROVnSz",
        "colab_type": "text"
      },
      "source": [
        "______"
      ]
    },
    {
      "cell_type": "markdown",
      "metadata": {
        "id": "jZtWg3M5VnSz",
        "colab_type": "text"
      },
      "source": [
        "As you can see above, we use ```loc``` to index the DataFrame object. This is just one of many different ways to slice your DataFrame object. We recommend looking into [loc vs iloc](https://www.pythonprogramming.in/what-is-difference-between-iloc-and-loc-in-pandas.html) as both will be useful for all data scientists."
      ]
    },
    {
      "cell_type": "markdown",
      "metadata": {
        "id": "o28231RkVnS0",
        "colab_type": "text"
      },
      "source": [
        "## Graphing volatility across time"
      ]
    },
    {
      "cell_type": "markdown",
      "metadata": {
        "id": "mRJCgdU-VnS1",
        "colab_type": "text"
      },
      "source": [
        "We've now satisfactorily answered our original question. However, you don't need to just analyze data in tabular format. Python contains functionality to allow you to analyze your data visually as well.\n",
        "\n",
        "We will use ```pandas``` functionality built on the standard Python plotting library [matplotlib](https://matplotlib.org/). Let's import the library and instruct Jupyter to display the plots inline (i.e. display the plots to the notebook screen so we can see them as we run the code):"
      ]
    },
    {
      "cell_type": "code",
      "metadata": {
        "id": "dfAC2PfzVnS1",
        "colab_type": "code",
        "colab": {}
      },
      "source": [
        "# import fundamental plotting library in Python\n",
        "import matplotlib.pyplot as plt\n",
        "\n",
        "# Instruct jupyter to plot in the notebook\n",
        "%matplotlib inline"
      ],
      "execution_count": 0,
      "outputs": []
    },
    {
      "cell_type": "markdown",
      "metadata": {
        "id": "5SuqcfIjVnS4",
        "colab_type": "text"
      },
      "source": [
        "Before we plot, we need to convert the ```Date``` column in ```agg_df``` to a ```datetime```-like object, Python's internal data representation of dates. ```pandas``` offers the [to_datetime()](https://pandas.pydata.org/pandas-docs/stable/reference/api/pandas.to_datetime.html) method to convert a string that represents a given date format into a ```datetime```-like object. We instruct ```pandas``` to use ```format='%Y-%m-%d'```, since our dates are in this format, where %Y indicates the numerical year, %m indicates the numerical month and %d indicates the numerical day. If our dates were in another format, we'd modify this input value appropriately."
      ]
    },
    {
      "cell_type": "code",
      "metadata": {
        "id": "HyhbeYyEVnS4",
        "colab_type": "code",
        "colab": {}
      },
      "source": [
        "# To convert a string to a datetime\n",
        "agg_df[\"DateTime\"] = pd.to_datetime(agg_df[\"Date\"], format=\"%Y-%m-%d\")\n",
        "\n",
        "# Set index as DateTime for plotting purposes\n",
        "agg_df = agg_df.set_index([\"DateTime\"])\n",
        "agg_df.head()"
      ],
      "execution_count": 0,
      "outputs": []
    },
    {
      "cell_type": "markdown",
      "metadata": {
        "id": "KBZXoHKdVnS6",
        "colab_type": "text"
      },
      "source": [
        "Now we are ready to look directly at volatility across time. Let's group by symbols and plot the ```VolStat``` value across time. Each symbol's time series will be labelled a different color by default:"
      ]
    },
    {
      "cell_type": "code",
      "metadata": {
        "id": "It3Sd7hHVnS7",
        "colab_type": "code",
        "colab": {}
      },
      "source": [
        "# Look at volatility regimes\n",
        "fig, ax = plt.subplots(figsize=(15, 6))\n",
        "agg_df.groupby(\"Symbol\")[\"VolStat\"].plot(\n",
        "    ax=ax, legend=True, title=\"Energy Sector Trends - VolStat\"\n",
        ")"
      ],
      "execution_count": 0,
      "outputs": []
    },
    {
      "cell_type": "markdown",
      "metadata": {
        "id": "39p0DWR-VnS-",
        "colab_type": "text"
      },
      "source": [
        "We notice that periods of high volatility tend to \"clump\" together; that is, periods of high volatility are not uniformly and randomly distributed across time, but tend to occur in highly concentrated bursts. This is an interesting insight that we could not gain by only looking at the data in tabular format. In future cases, you will dig deeper into the numerous graphing capabilities of Python and how to integrate them into your data science workflow."
      ]
    },
    {
      "cell_type": "markdown",
      "metadata": {
        "id": "iZw5toQmVnS-",
        "colab_type": "text"
      },
      "source": [
        "### Exercise 8:\n",
        "\n",
        "Write a script to find and print the month that has the highest average daily trading volume for each symbol. Also include the average volume value corresponding to that month. For example, symbol D has its highest average daily trading volume of 6.437 million in December 2018."
      ]
    },
    {
      "cell_type": "markdown",
      "metadata": {
        "id": "IojA9bAeVnS-",
        "colab_type": "text"
      },
      "source": [
        "**Answer.**"
      ]
    },
    {
      "cell_type": "markdown",
      "metadata": {
        "id": "QyGazFgjVnS_",
        "colab_type": "text"
      },
      "source": [
        "### Exercise 9:\n",
        "\n",
        "We have so far looked at volatility grouped by stock symbol or by year and month. As our data covers several years, it's also interesting to group the data by calendar month, ignoring the year component (e.g. averaging together all Januarys). This allows us to see if some points of the year, on average, are more susceptible to volatile trading patterns.\n",
        "\n",
        "Group the data by month (ignoring the year), and identify :\n",
        "\n",
        "* The month with, on average, the highest volatility\n",
        "* The month with, on average, the lowest volatility\n",
        "* Any general patterns that you notice over the whole year"
      ]
    },
    {
      "cell_type": "markdown",
      "metadata": {
        "id": "D7tuN5jqVnTA",
        "colab_type": "text"
      },
      "source": [
        "**Answer.**"
      ]
    },
    {
      "cell_type": "markdown",
      "metadata": {
        "id": "A1ZsRh3bVnTA",
        "colab_type": "text"
      },
      "source": [
        "### Exercise 10:\n",
        "\n",
        "The final point that we're interested in is looking at the days where:\n",
        "\n",
        "* The return is high\n",
        "* Trading volume is low\n",
        "\n",
        "This indicates days where the price moved substantially but without much changing hands.\n",
        "\n",
        "The thresholds that we are interested in are:\n",
        "* Low volume: any day with a trading volume in the bottom 25th percentile\n",
        "* High return: any day where the return is in the opt 75th percentile\n",
        "\n",
        "Write the code necessary to:\n",
        "* Calculate and add a \"High/Low\" variable for Volume Level (low is below 25th percentile)\n",
        "* Calculate and add a \"High/Low\" variable for Return (high is above 75th percentile)\n",
        "\n",
        "Describe what you see in terms of:\n",
        "* How many rows fall into our \"low volume\" definition?\n",
        "* How many rows fall into our \"high return\" definition?\n",
        "* How many rows fall into the combination of high return with low volume definition?\n",
        "* What are the 20 rows with the highest return but with low volume? What do you notice about these trades?\n",
        "\n",
        "(hint, you can use the [sort_values()](https://pandas.pydata.org/pandas-docs/stable/reference/api/pandas.DataFrame.sort_values.html) method in `pandas` to sort a DataFrame by a specific column.)"
      ]
    },
    {
      "cell_type": "markdown",
      "metadata": {
        "id": "V420mE_SVnTC",
        "colab_type": "text"
      },
      "source": [
        "**Answer.**"
      ]
    },
    {
      "cell_type": "markdown",
      "metadata": {
        "id": "bs_LGZdjVnTE",
        "colab_type": "text"
      },
      "source": [
        "## Conclusions"
      ]
    },
    {
      "cell_type": "markdown",
      "metadata": {
        "collapsed": true,
        "id": "ssErCZtWVnTF",
        "colab_type": "text"
      },
      "source": [
        "Having completed the analysis of the energy sector stock data, we have identified a number of interesting patterns relating volatility to trading volume. Specifically, we found that periods of high volatility also exhibit very high volume. This trend is consistent across all symbols.\n",
        "\n",
        "We also saw that each stock exhibited \"volatility clustering\" – periods of high volatility tend to be clumped together. Each of the stocks experienced high volatility at relatively similar times which suggests some broader market factor may be affecting the energy sector."
      ]
    },
    {
      "cell_type": "markdown",
      "metadata": {
        "id": "Nq3LWnMpVnTG",
        "colab_type": "text"
      },
      "source": [
        "## Takeaways"
      ]
    },
    {
      "cell_type": "markdown",
      "metadata": {
        "collapsed": true,
        "id": "yDEM06TnVnTG",
        "colab_type": "text"
      },
      "source": [
        "In this case, we've learned the foundations of the ```pandas``` library in Python. We now know how to:\n",
        "\n",
        "1. Read data from CSV files\n",
        "2. Aggregate and manipulate data using ```pandas```\n",
        "3. Analyze summary statistics and gather information from trends across time\n",
        "4. Use ```matplotlib``` to create plots for visual analysis\n",
        "\n",
        "Going forward, we will be consistently using ```pandas``` as a data analysis framework (along with other tools) to build more complex projects and solve critical business problems. It is critical you become as familiar with ```pandas``` as possible and it is imperative that you continue researching/investigating new components of this library after the completion of this program. What we have taught here are only the essential basics of `pandas`; there is still a vast amount of power to the library that you will discover and utilize later on in your development as a data professional.\n",
        "\n",
        "We highly recommend revisiting this case a few more times and going through it from beginning to end with no aid/answers. You should know the various DataFrame/Series methods we introduced here as well as how to carry out common operations on data, such as finding percentiles, before you consider yourself to have \"mastered\" this material."
      ]
    }
  ]
}